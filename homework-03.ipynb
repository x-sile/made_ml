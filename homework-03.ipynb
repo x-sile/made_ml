{
 "cells": [
  {
   "cell_type": "code",
   "execution_count": 1,
   "metadata": {},
   "outputs": [],
   "source": [
    "import re\n",
    "\n",
    "import pandas as pd\n",
    "import numpy as np\n",
    "\n",
    "import pickle\n",
    "import scipy.stats as stats\n",
    "from scipy import sparse as sp\n",
    "from scipy.special import expit\n",
    "from sklearn.linear_model import LogisticRegression\n",
    "from sklearn.preprocessing import OneHotEncoder\n",
    "from tqdm import tqdm"
   ]
  },
  {
   "cell_type": "markdown",
   "metadata": {},
   "source": [
    "### 1 - Читаем и препроцессим данные"
   ]
  },
  {
   "cell_type": "markdown",
   "metadata": {},
   "source": [
    "Прочитайте и проанализируйте данные, выберите турниры, в которых есть данные о составах команд и повопросных результатах (поле mask в results.pkl). Для унификации предлагаю:\n",
    "- взять в тренировочный набор турниры с dateStart из 2019 года; \n",
    "- в тестовый — турниры с dateStart из 2020 года."
   ]
  },
  {
   "cell_type": "code",
   "execution_count": 2,
   "metadata": {},
   "outputs": [],
   "source": [
    "with open('results.pkl', 'rb') as f1, open('tournaments.pkl', 'rb') as f2, open('players.pkl', 'rb') as f3:\n",
    "    source_results = pickle.load(f1)\n",
    "    source_tournaments = pickle.load(f2)\n",
    "    source_players = pickle.load(f3)"
   ]
  },
  {
   "cell_type": "code",
   "execution_count": 3,
   "metadata": {},
   "outputs": [],
   "source": [
    "players_names = {v['id']: v['name'] + ' ' + v['surname'] for k, v in source_players.items()}\n",
    "tournament_names = {v['id']: v['name']for k, v in source_tournaments.items()}\n",
    "\n",
    "# Разделим турниры на трейн/тест\n",
    "train_tournaments = set([v['id'] for k, v in source_tournaments.items() if v['dateStart'][:4] == '2019'])\n",
    "test_tournaments = set([v['id'] for k, v in source_tournaments.items() if v['dateStart'][:4] == '2020'])"
   ]
  },
  {
   "cell_type": "code",
   "execution_count": 4,
   "metadata": {
    "scrolled": true
   },
   "outputs": [],
   "source": [
    "teams_dct = {}\n",
    "results_train = {}\n",
    "results_test = {}\n",
    "\n",
    "for tournament_id, teams_list in source_results.items():\n",
    "    tournament_results = {}\n",
    "    for team in teams_list:\n",
    "        team_mask = team.get('mask')\n",
    "        team_members = [player['player']['id'] for player in team['teamMembers']]\n",
    "        \n",
    "        # Оставим только команды с игроками и бинарной маской ответов\n",
    "        if team_mask is None or re.findall('[^01]', team_mask) or not team_members:\n",
    "            continue\n",
    "          \n",
    "        team_id = team['team']['id']\n",
    "        team_name = team['team']['name']\n",
    "        teams_dct[team_id] = team_name\n",
    "        \n",
    "        tournament_results[team_id] = {}\n",
    "        tournament_results[team_id]['mask'] = team_mask\n",
    "        tournament_results[team_id]['players'] = team_members\n",
    "    \n",
    "    # Уберем турниры с разным числом вопросов и разделим результаты на трейн/тест\n",
    "    if len(set(list(map(len, [team['mask'] for team in tournament_results.values()])))) == 1:  \n",
    "        if tournament_id in train_tournaments:\n",
    "            results_train[tournament_id] = tournament_results\n",
    "        elif tournament_id in test_tournaments:\n",
    "            results_test[tournament_id] = tournament_results"
   ]
  },
  {
   "cell_type": "markdown",
   "metadata": {},
   "source": [
    "### 2 - Baseline"
   ]
  },
  {
   "cell_type": "markdown",
   "metadata": {},
   "source": [
    "Постройте baseline-модель на основе линейной или логистической регрессии, которая будет обучать рейтинг-лист игроков. Замечания и подсказки:\n",
    "- повопросные результаты — это фактически результаты броска монетки, и их предсказание скорее всего имеет отношение к бинарной классификации;\n",
    "- в разных турнирах вопросы совсем разного уровня сложности, поэтому модель должна это учитывать; скорее всего, модель должна будет явно обучать не только силу каждого игрока, но и сложность каждого вопроса;\n",
    "- для baseline-модели можно забыть о командах и считать, что повопросные результаты команды просто относятся к каждому из её игроков."
   ]
  },
  {
   "cell_type": "markdown",
   "metadata": {},
   "source": [
    "Будем обучать коэффициенты при игроках и вопросах, то есть X - OHE-вектор размерности (N, n_questions + n_players)"
   ]
  },
  {
   "cell_type": "code",
   "execution_count": 5,
   "metadata": {},
   "outputs": [
    {
     "name": "stderr",
     "output_type": "stream",
     "text": [
      "100%|██████████| 604/604 [00:08<00:00, 68.65it/s] \n"
     ]
    }
   ],
   "source": [
    "train = []\n",
    "\n",
    "max_question_id = 0\n",
    "\n",
    "for tournament_id, teams in tqdm(results_train.items()):\n",
    "    for team_id, team in teams.items():\n",
    "        mask = np.array([np.int32(answer) for answer in team['mask']])\n",
    "        players = team['players']\n",
    "        questions = np.tile(np.arange(max_question_id, max_question_id + len(mask)), len(players))\n",
    "        answers = np.array(np.meshgrid(players, mask)).T.reshape(-1, 2)\n",
    "        answers = np.hstack([\n",
    "            np.repeat(tournament_id, len(questions)).reshape(-1, 1),\n",
    "            np.repeat(team_id, len(questions)).reshape(-1, 1),\n",
    "            answers, \n",
    "            questions.reshape(-1, 1)]\n",
    "        )\n",
    "        train.append(answers)\n",
    "        \n",
    "    max_question_id += len(mask)\n",
    "        \n",
    "train = np.vstack(train).astype(np.int32)\n",
    "train = pd.DataFrame(train, \n",
    "                     columns = ['tournament_id', 'team_id', 'player_id', 'answer', 'question_id'])"
   ]
  },
  {
   "cell_type": "code",
   "execution_count": 6,
   "metadata": {},
   "outputs": [],
   "source": [
    "ohe = OneHotEncoder(handle_unknown='ignore')\n",
    "\n",
    "X_tr = ohe.fit_transform(train[['player_id', 'question_id']])\n",
    "y_tr = train['answer']"
   ]
  },
  {
   "cell_type": "code",
   "execution_count": 7,
   "metadata": {},
   "outputs": [
    {
     "data": {
      "text/plain": [
       "LogisticRegression(C=1.0, class_weight=None, dual=False, fit_intercept=True,\n",
       "                   intercept_scaling=1, l1_ratio=None, max_iter=100,\n",
       "                   multi_class='auto', n_jobs=-1, penalty='l2', random_state=42,\n",
       "                   solver='lbfgs', tol=0.0001, verbose=0, warm_start=False)"
      ]
     },
     "execution_count": 7,
     "metadata": {},
     "output_type": "execute_result"
    }
   ],
   "source": [
    "lr = LogisticRegression(random_state=42, n_jobs=-1)\n",
    "\n",
    "lr.fit(X_tr, y_tr)"
   ]
  },
  {
   "cell_type": "markdown",
   "metadata": {},
   "source": [
    "Отранжируем игроков по коэффициенту в логистической регрессии"
   ]
  },
  {
   "cell_type": "code",
   "execution_count": 8,
   "metadata": {},
   "outputs": [],
   "source": [
    "unique_players = np.unique(train['player_id'])\n",
    "unique_questions = np.unique(train['question_id'])\n",
    "                    \n",
    "rating = pd.DataFrame({'player_id': unique_players,\n",
    "                       'strength': lr.coef_[0][:len(unique_players)]})\n",
    "rating['name'] = rating['player_id'].map(players_names)"
   ]
  },
  {
   "cell_type": "code",
   "execution_count": 9,
   "metadata": {},
   "outputs": [
    {
     "data": {
      "text/html": [
       "<div>\n",
       "<style scoped>\n",
       "    .dataframe tbody tr th:only-of-type {\n",
       "        vertical-align: middle;\n",
       "    }\n",
       "\n",
       "    .dataframe tbody tr th {\n",
       "        vertical-align: top;\n",
       "    }\n",
       "\n",
       "    .dataframe thead th {\n",
       "        text-align: right;\n",
       "    }\n",
       "</style>\n",
       "<table border=\"1\" class=\"dataframe\">\n",
       "  <thead>\n",
       "    <tr style=\"text-align: right;\">\n",
       "      <th></th>\n",
       "      <th>player_id</th>\n",
       "      <th>strength</th>\n",
       "      <th>name</th>\n",
       "    </tr>\n",
       "  </thead>\n",
       "  <tbody>\n",
       "    <tr>\n",
       "      <th>3767</th>\n",
       "      <td>27403</td>\n",
       "      <td>3.756316</td>\n",
       "      <td>Максим Руссо</td>\n",
       "    </tr>\n",
       "    <tr>\n",
       "      <th>585</th>\n",
       "      <td>4270</td>\n",
       "      <td>3.528304</td>\n",
       "      <td>Александра Брутер</td>\n",
       "    </tr>\n",
       "    <tr>\n",
       "      <th>5054</th>\n",
       "      <td>37047</td>\n",
       "      <td>3.416439</td>\n",
       "      <td>Мария Юнгер</td>\n",
       "    </tr>\n",
       "    <tr>\n",
       "      <th>4137</th>\n",
       "      <td>30152</td>\n",
       "      <td>3.356955</td>\n",
       "      <td>Артём Сорожкин</td>\n",
       "    </tr>\n",
       "    <tr>\n",
       "      <th>3953</th>\n",
       "      <td>28751</td>\n",
       "      <td>3.303127</td>\n",
       "      <td>Иван Семушин</td>\n",
       "    </tr>\n",
       "    <tr>\n",
       "      <th>3837</th>\n",
       "      <td>27822</td>\n",
       "      <td>3.285753</td>\n",
       "      <td>Михаил Савченков</td>\n",
       "    </tr>\n",
       "    <tr>\n",
       "      <th>2857</th>\n",
       "      <td>20691</td>\n",
       "      <td>3.267417</td>\n",
       "      <td>Станислав Мереминский</td>\n",
       "    </tr>\n",
       "    <tr>\n",
       "      <th>4673</th>\n",
       "      <td>34328</td>\n",
       "      <td>3.262248</td>\n",
       "      <td>Михаил Царёв</td>\n",
       "    </tr>\n",
       "    <tr>\n",
       "      <th>526</th>\n",
       "      <td>3843</td>\n",
       "      <td>3.259948</td>\n",
       "      <td>Светлана Бомешко</td>\n",
       "    </tr>\n",
       "    <tr>\n",
       "      <th>2506</th>\n",
       "      <td>18036</td>\n",
       "      <td>3.203949</td>\n",
       "      <td>Михаил Левандовский</td>\n",
       "    </tr>\n",
       "    <tr>\n",
       "      <th>4157</th>\n",
       "      <td>30270</td>\n",
       "      <td>3.195817</td>\n",
       "      <td>Сергей Спешков</td>\n",
       "    </tr>\n",
       "    <tr>\n",
       "      <th>5234</th>\n",
       "      <td>38196</td>\n",
       "      <td>3.186417</td>\n",
       "      <td>Артём Митрофанов</td>\n",
       "    </tr>\n",
       "    <tr>\n",
       "      <th>6559</th>\n",
       "      <td>56647</td>\n",
       "      <td>3.175024</td>\n",
       "      <td>Наталья Горелова</td>\n",
       "    </tr>\n",
       "    <tr>\n",
       "      <th>1251</th>\n",
       "      <td>9061</td>\n",
       "      <td>3.165136</td>\n",
       "      <td>Евгений Дёмин</td>\n",
       "    </tr>\n",
       "    <tr>\n",
       "      <th>3164</th>\n",
       "      <td>22935</td>\n",
       "      <td>3.156470</td>\n",
       "      <td>Илья Новиков</td>\n",
       "    </tr>\n",
       "    <tr>\n",
       "      <th>2087</th>\n",
       "      <td>15123</td>\n",
       "      <td>3.116056</td>\n",
       "      <td>Ирина Колесникова</td>\n",
       "    </tr>\n",
       "    <tr>\n",
       "      <th>1673</th>\n",
       "      <td>12307</td>\n",
       "      <td>3.098737</td>\n",
       "      <td>Светлана Иванцова</td>\n",
       "    </tr>\n",
       "    <tr>\n",
       "      <th>2262</th>\n",
       "      <td>16332</td>\n",
       "      <td>3.094722</td>\n",
       "      <td>Николай Крапиль</td>\n",
       "    </tr>\n",
       "    <tr>\n",
       "      <th>3148</th>\n",
       "      <td>22799</td>\n",
       "      <td>3.077229</td>\n",
       "      <td>Сергей Николенко</td>\n",
       "    </tr>\n",
       "    <tr>\n",
       "      <th>3546</th>\n",
       "      <td>25757</td>\n",
       "      <td>3.074420</td>\n",
       "      <td>Мария Летюхина</td>\n",
       "    </tr>\n",
       "  </tbody>\n",
       "</table>\n",
       "</div>"
      ],
      "text/plain": [
       "      player_id  strength                   name\n",
       "3767      27403  3.756316           Максим Руссо\n",
       "585        4270  3.528304      Александра Брутер\n",
       "5054      37047  3.416439            Мария Юнгер\n",
       "4137      30152  3.356955         Артём Сорожкин\n",
       "3953      28751  3.303127           Иван Семушин\n",
       "3837      27822  3.285753       Михаил Савченков\n",
       "2857      20691  3.267417  Станислав Мереминский\n",
       "4673      34328  3.262248           Михаил Царёв\n",
       "526        3843  3.259948       Светлана Бомешко\n",
       "2506      18036  3.203949    Михаил Левандовский\n",
       "4157      30270  3.195817         Сергей Спешков\n",
       "5234      38196  3.186417       Артём Митрофанов\n",
       "6559      56647  3.175024       Наталья Горелова\n",
       "1251       9061  3.165136          Евгений Дёмин\n",
       "3164      22935  3.156470           Илья Новиков\n",
       "2087      15123  3.116056      Ирина Колесникова\n",
       "1673      12307  3.098737      Светлана Иванцова\n",
       "2262      16332  3.094722        Николай Крапиль\n",
       "3148      22799  3.077229       Сергей Николенко\n",
       "3546      25757  3.074420         Мария Летюхина"
      ]
     },
     "execution_count": 9,
     "metadata": {},
     "output_type": "execute_result"
    }
   ],
   "source": [
    "rating.sort_values(by='strength', ascending=False).head(20)"
   ]
  },
  {
   "cell_type": "markdown",
   "metadata": {},
   "source": [
    "Такой вот у нас получился рейтинг (топ 20). Если сравнить с официальным рейтингом, то становится ясно, что это не ноунеймы=)"
   ]
  },
  {
   "cell_type": "markdown",
   "metadata": {},
   "source": [
    "### 3 - Оценка качества"
   ]
  },
  {
   "cell_type": "markdown",
   "metadata": {},
   "source": [
    "Качество рейтинг-системы оценивается качеством предсказаний результатов турниров. Но сами повопросные результаты наши модели предсказывать вряд ли смогут, ведь неизвестно, насколько сложными окажутся вопросы в будущих турнирах; да и не нужны эти предсказания сами по себе. Поэтому:\n",
    "- предложите способ предсказать результаты нового турнира с известными составами, но неизвестными вопросами, в виде ранжирования команд;\n",
    "- в качестве метрики качества на тестовом наборе давайте считать ранговые корреляции Спирмена и Кендалла (их можно взять в пакете scipy) между реальным ранжированием в результатах турнира и предсказанным моделью, усреднённые по тестовому множеству турниров."
   ]
  },
  {
   "cell_type": "markdown",
   "metadata": {},
   "source": [
    "Силу команд оценим как вероятность того, что хотя бы один участник ответит верно на 1 вопрос (сложность вопроса учитывать не будем, проставим для этих признаков нолики)"
   ]
  },
  {
   "cell_type": "code",
   "execution_count": 10,
   "metadata": {},
   "outputs": [],
   "source": [
    "players_train = set(unique_players)\n",
    "questions_train = set(unique_questions)"
   ]
  },
  {
   "cell_type": "code",
   "execution_count": 11,
   "metadata": {
    "scrolled": true
   },
   "outputs": [
    {
     "name": "stderr",
     "output_type": "stream",
     "text": [
      "100%|██████████| 156/156 [00:01<00:00, 80.36it/s] \n"
     ]
    }
   ],
   "source": [
    "test = []\n",
    "for tournament_id, teams in tqdm(results_test.items()):\n",
    "    for team_id, team in teams.items():\n",
    "        mask = np.array([np.int32(answer) for answer in team['mask']])\n",
    "        for player_id in team['players']:\n",
    "            # оставим только игроков из трейна \n",
    "            # может не совсем корректно и лучше подставлять среднюю силу, но по качеству это примерно одинаково\n",
    "            if player_id not in players_train: \n",
    "                continue\n",
    "            \n",
    "            # -1 - фиктивно добавим вопросы, которых не было\n",
    "            test.append((tournament_id, team_id, player_id, -1, sum(mask), len(mask))) \n",
    "        \n",
    "test = np.vstack(test).astype(np.int32)\n",
    "test = pd.DataFrame(test, \n",
    "                    columns = ['tournament_id', 'team_id', 'player_id', 'question_id', 'n_true', 'n_total'])"
   ]
  },
  {
   "cell_type": "code",
   "execution_count": 12,
   "metadata": {},
   "outputs": [],
   "source": [
    "X_te = test[['player_id', 'question_id']]\n",
    "X_te = ohe.transform(X_te)"
   ]
  },
  {
   "cell_type": "code",
   "execution_count": 13,
   "metadata": {},
   "outputs": [],
   "source": [
    "preds = lr.predict_proba(X_te)[:, 1]"
   ]
  },
  {
   "cell_type": "code",
   "execution_count": 14,
   "metadata": {},
   "outputs": [],
   "source": [
    "def compute_scores(data, preds):\n",
    "    data['pred'] = preds\n",
    "    data['score'] = data.groupby(['tournament_id', 'team_id'])['pred'].transform(lambda x: 1 - np.prod(1 - x))\n",
    "    rating = data[['tournament_id', 'team_id', 'n_true', 'score']].drop_duplicates().reset_index(drop=True)\n",
    "    \n",
    "    # Считаем реальный рейтинг команд\n",
    "    rating = rating.sort_values(by=['tournament_id', 'n_true'], ascending=False)\n",
    "    rating['real_rank'] = rating.groupby('tournament_id')['n_true'].transform(lambda x: np.arange(1, len(x) + 1))\n",
    "    \n",
    "    # Считаем предсказанный рейтинг\n",
    "    rating = rating.sort_values(by=['tournament_id', 'score'], ascending=False)\n",
    "    rating['pred_rank'] = rating.groupby('tournament_id')['score'].transform(lambda x: np.arange(1, len(x) + 1))\n",
    "\n",
    "    rating = rating.astype(np.int32)\n",
    "    \n",
    "    print(f\"Корреляция Спирмана: {rating.groupby('tournament_id').apply(lambda x: stats.spearmanr(x['real_rank'], x['pred_rank']).correlation).mean()}\")\n",
    "    print(f\"Корреляция Кендалла: {rating.groupby('tournament_id').apply(lambda x: stats.kendalltau(x['real_rank'], x['pred_rank']).correlation).mean()}\")"
   ]
  },
  {
   "cell_type": "code",
   "execution_count": 15,
   "metadata": {},
   "outputs": [
    {
     "name": "stdout",
     "output_type": "stream",
     "text": [
      "Корреляция Спирмана: 0.7719380041155093\n",
      "Корреляция Кендалла: 0.6025156026312651\n"
     ]
    }
   ],
   "source": [
    "compute_scores(test, preds)"
   ]
  },
  {
   "cell_type": "markdown",
   "metadata": {},
   "source": [
    "Корреляции в норме!"
   ]
  },
  {
   "cell_type": "markdown",
   "metadata": {},
   "source": [
    "### 4 - EM"
   ]
  },
  {
   "cell_type": "markdown",
   "metadata": {},
   "source": [
    "Теперь главное: ЧГК — это всё-таки командная игра. Поэтому:\n",
    "- предложите способ учитывать то, что на вопрос отвечают сразу несколько игроков; скорее всего, понадобятся скрытые переменные; не стесняйтесь делать упрощающие предположения, но теперь переменные “игрок X ответил на вопрос Y” при условии данных должны стать зависимыми для игроков одной и той же команды;\n",
    "- разработайте EM-схему для обучения этой модели, реализуйте её в коде;\n",
    "- обучите несколько итераций, убедитесь, что целевые метрики со временем растут (скорее всего, ненамного, но расти должны), выберите лучшую модель, используя целевые метрики."
   ]
  },
  {
   "cell_type": "markdown",
   "metadata": {},
   "source": [
    "До этого мы считали, что если команда ответила на вопрос, то и игрок на него ответил. На самом деле это не так, и нам нужно оценить вероятность ответа игрока при условии \"силы команды\". \"Силой команды\" можно назвать, например, среднее число ответивших на вопрос игроков, но там образуются сложные вычисления с binominal poisson distribution. Предлагаю попробовать считать \"силой команды\", как и ранее, вероятность хотя бы одного игрока ответить на вопрос. Также предположим, что \"сила команды\", если игрок ответил верно, равна 1. Тогда:\n",
    "- P(player = 1 | team) = P(team | player = 1) * P(player = 1) / P(team) =  P(player = 1) / P(team)\n",
    "- Также будем считать, что P(player = 1 | team ) = 0, если команда ответила на вопрос неверно\n",
    "\n",
    "Соответсвенно, на E-шаге оцениваем P(player = 1 | team), а на M-шаге обучаем логистическую регрессию на этом таргете, на выходе получаем значения P(player = 1). P(team), как и ранее, оцениваем как вероятность того, что хотя бы 1 игрок ответит верно: P(team) = 1 - П[1 - P(player = 1)]"
   ]
  },
  {
   "cell_type": "code",
   "execution_count": 18,
   "metadata": {},
   "outputs": [],
   "source": [
    "class EMClassifier:\n",
    "    \n",
    "    def __init__(self, w=None, lr=25, n_iter=12, batch_size=5000, verbose=1):\n",
    "        self.w = w\n",
    "        self.lr = lr\n",
    "        self.n_iter = n_iter\n",
    "        self.batch_size = batch_size\n",
    "        self.verbose = 1\n",
    "        \n",
    "    def _add_intercept(self, X):\n",
    "        return sp.hstack((np.ones((X.shape[0], 1)), X), format='csr')\n",
    "    \n",
    "    def _init_w(self, dim):\n",
    "        self.w = np.random.randn(dim)\n",
    "        \n",
    "    def _E_step(self, data, preds):\n",
    "        team_strength = pd.DataFrame({'team_id': data['team_id'],\n",
    "                                      'question_id': data['question_id'], \n",
    "                                      'team_strength': 1 - preds})\n",
    "        team_strength = team_strength.groupby(['team_id', 'question_id']).agg({'team_strength': 'prod'}).reset_index()\n",
    "        team_strength['team_strength'] = 1 - team_strength['team_strength']\n",
    "        team_strength = data[['team_id', 'question_id']].merge(team_strength)\n",
    "        y = np.clip(preds / team_strength['team_strength'], 0, 1).values # переведем к вероятностям\n",
    "        y[data['answer'] == 0] = 0\n",
    "        return y\n",
    "        \n",
    "    def _M_step(self, X, y):\n",
    "        # Обучаем LogReg батчевым градиентным спуском, чтобы выскакивать из локальных минимумов\n",
    "        indices = np.arange(X.shape[0])\n",
    "        indices = np.random.permutation(indices)\n",
    "        for batch_idx in np.array_split(indices, len(indices) // self.batch_size):\n",
    "            x_batch, y_batch = X[batch_idx], y[batch_idx]\n",
    "            grad = x_batch.T.dot(self.predict(x_batch) - y_batch) / len(y_batch)\n",
    "            self.w -= self.lr * grad\n",
    "                \n",
    "    def fit(self, X_tr, train_data, X_te=None, test_data=None):\n",
    "        X_tr = self._add_intercept(X_tr)\n",
    "        if self.w is None or len(self.w) != X_tr.shape[1]:\n",
    "            self._init_w(X_tr.shape[1])\n",
    "        \n",
    "        for iter_ in tqdm(range(self.n_iter)): \n",
    "            preds = self.predict(X_tr)\n",
    "            y = self._E_step(train_data, preds)\n",
    "            self._M_step(X_tr, y)\n",
    "            if self.verbose is not None and X_te is not None and test_data is not None and iter_ % self.verbose == 0:\n",
    "                compute_scores(test_data, self.predict(X_te))\n",
    "                         \n",
    "    def predict(self, X):\n",
    "        if self.w is None:\n",
    "            raise ValueError('Model is not fitted yet!')\n",
    "        if len(self.w) != X.shape[1]:\n",
    "            X = self._add_intercept(X)\n",
    "        return expit(X.dot(self.w)) "
   ]
  },
  {
   "cell_type": "code",
   "execution_count": 19,
   "metadata": {},
   "outputs": [],
   "source": [
    "# Инициализируем нашей обученной моделькой, чтобы не ждать вечность\n",
    "w_init = np.hstack([lr.intercept_, lr.coef_[0]])\n",
    "em_classifier = EMClassifier(w_init)"
   ]
  },
  {
   "cell_type": "code",
   "execution_count": 20,
   "metadata": {
    "scrolled": false
   },
   "outputs": [
    {
     "name": "stderr",
     "output_type": "stream",
     "text": [
      "  8%|▊         | 1/12 [00:56<10:22, 56.61s/it]"
     ]
    },
    {
     "name": "stdout",
     "output_type": "stream",
     "text": [
      "Корреляция Спирмана: 0.7827321842518284\n",
      "Корреляция Кендалла: 0.6134915987254093\n"
     ]
    },
    {
     "name": "stderr",
     "output_type": "stream",
     "text": [
      " 17%|█▋        | 2/12 [01:53<09:26, 56.63s/it]"
     ]
    },
    {
     "name": "stdout",
     "output_type": "stream",
     "text": [
      "Корреляция Спирмана: 0.7754469406366868\n",
      "Корреляция Кендалла: 0.6061754328299641\n"
     ]
    },
    {
     "name": "stderr",
     "output_type": "stream",
     "text": [
      " 25%|██▌       | 3/12 [02:53<08:38, 57.57s/it]"
     ]
    },
    {
     "name": "stdout",
     "output_type": "stream",
     "text": [
      "Корреляция Спирмана: 0.7851492302307855\n",
      "Корреляция Кендалла: 0.6159079715913529\n"
     ]
    },
    {
     "name": "stderr",
     "output_type": "stream",
     "text": [
      " 33%|███▎      | 4/12 [03:50<07:39, 57.45s/it]"
     ]
    },
    {
     "name": "stdout",
     "output_type": "stream",
     "text": [
      "Корреляция Спирмана: 0.7866396706213826\n",
      "Корреляция Кендалла: 0.6162030032002702\n"
     ]
    },
    {
     "name": "stderr",
     "output_type": "stream",
     "text": [
      " 42%|████▏     | 5/12 [04:47<06:41, 57.33s/it]"
     ]
    },
    {
     "name": "stdout",
     "output_type": "stream",
     "text": [
      "Корреляция Спирмана: 0.7819841461915388\n",
      "Корреляция Кендалла: 0.6105247807470434\n"
     ]
    },
    {
     "name": "stderr",
     "output_type": "stream",
     "text": [
      " 50%|█████     | 6/12 [05:44<05:44, 57.44s/it]"
     ]
    },
    {
     "name": "stdout",
     "output_type": "stream",
     "text": [
      "Корреляция Спирмана: 0.7851256461348796\n",
      "Корреляция Кендалла: 0.6153313667287154\n"
     ]
    },
    {
     "name": "stderr",
     "output_type": "stream",
     "text": [
      " 58%|█████▊    | 7/12 [06:42<04:47, 57.59s/it]"
     ]
    },
    {
     "name": "stdout",
     "output_type": "stream",
     "text": [
      "Корреляция Спирмана: 0.7860534118078061\n",
      "Корреляция Кендалла: 0.6167742273506357\n"
     ]
    },
    {
     "name": "stderr",
     "output_type": "stream",
     "text": [
      " 67%|██████▋   | 8/12 [07:40<03:50, 57.60s/it]"
     ]
    },
    {
     "name": "stdout",
     "output_type": "stream",
     "text": [
      "Корреляция Спирмана: 0.7820605385652207\n",
      "Корреляция Кендалла: 0.6103916532905465\n"
     ]
    },
    {
     "name": "stderr",
     "output_type": "stream",
     "text": [
      " 75%|███████▌  | 9/12 [08:38<02:52, 57.58s/it]"
     ]
    },
    {
     "name": "stdout",
     "output_type": "stream",
     "text": [
      "Корреляция Спирмана: 0.7861363351255707\n",
      "Корреляция Кендалла: 0.6164101416277168\n"
     ]
    },
    {
     "name": "stderr",
     "output_type": "stream",
     "text": [
      " 83%|████████▎ | 10/12 [09:35<01:55, 57.53s/it]"
     ]
    },
    {
     "name": "stdout",
     "output_type": "stream",
     "text": [
      "Корреляция Спирмана: 0.7867106584358975\n",
      "Корреляция Кендалла: 0.6170026780264066\n"
     ]
    },
    {
     "name": "stderr",
     "output_type": "stream",
     "text": [
      " 92%|█████████▏| 11/12 [10:32<00:57, 57.51s/it]"
     ]
    },
    {
     "name": "stdout",
     "output_type": "stream",
     "text": [
      "Корреляция Спирмана: 0.7841346255876056\n",
      "Корреляция Кендалла: 0.6129190747116702\n"
     ]
    },
    {
     "name": "stderr",
     "output_type": "stream",
     "text": [
      "100%|██████████| 12/12 [11:30<00:00, 57.52s/it]"
     ]
    },
    {
     "name": "stdout",
     "output_type": "stream",
     "text": [
      "Корреляция Спирмана: 0.7853270686403361\n",
      "Корреляция Кендалла: 0.6157091825933089\n"
     ]
    },
    {
     "name": "stderr",
     "output_type": "stream",
     "text": [
      "\n"
     ]
    }
   ],
   "source": [
    "# Обучим 12 эпох\n",
    "em_classifier.fit(X_tr, train, X_te, test)"
   ]
  },
  {
   "cell_type": "code",
   "execution_count": 21,
   "metadata": {},
   "outputs": [
    {
     "name": "stderr",
     "output_type": "stream",
     "text": [
      "100%|██████████| 1/1 [01:00<00:00, 60.47s/it]"
     ]
    },
    {
     "name": "stdout",
     "output_type": "stream",
     "text": [
      "Корреляция Спирмана: 0.787039483432135\n",
      "Корреляция Кендалла: 0.6168585763270119\n"
     ]
    },
    {
     "name": "stderr",
     "output_type": "stream",
     "text": [
      "\n"
     ]
    }
   ],
   "source": [
    "# Еще 1 эпоху\n",
    "em_classifier.n_iter = 1\n",
    "em_classifier.fit(X_tr, train, X_te, test)"
   ]
  },
  {
   "cell_type": "markdown",
   "metadata": {},
   "source": [
    "В целом, получилось добиться неплохого прироста относительно бейзлайна. Посмотрим еще раз рейтинг игроков."
   ]
  },
  {
   "cell_type": "code",
   "execution_count": 22,
   "metadata": {
    "scrolled": true
   },
   "outputs": [],
   "source": [
    "rating = pd.DataFrame({'player_id': unique_players,\n",
    "                       'strength': em_classifier.w[1:1 + len(unique_players)]})\n",
    "rating['name'] = rating['player_id'].map(players_names)"
   ]
  },
  {
   "cell_type": "code",
   "execution_count": 26,
   "metadata": {},
   "outputs": [
    {
     "data": {
      "text/html": [
       "<div>\n",
       "<style scoped>\n",
       "    .dataframe tbody tr th:only-of-type {\n",
       "        vertical-align: middle;\n",
       "    }\n",
       "\n",
       "    .dataframe tbody tr th {\n",
       "        vertical-align: top;\n",
       "    }\n",
       "\n",
       "    .dataframe thead th {\n",
       "        text-align: right;\n",
       "    }\n",
       "</style>\n",
       "<table border=\"1\" class=\"dataframe\">\n",
       "  <thead>\n",
       "    <tr style=\"text-align: right;\">\n",
       "      <th></th>\n",
       "      <th>player_id</th>\n",
       "      <th>strength</th>\n",
       "      <th>name</th>\n",
       "    </tr>\n",
       "  </thead>\n",
       "  <tbody>\n",
       "    <tr>\n",
       "      <th>3767</th>\n",
       "      <td>27403</td>\n",
       "      <td>4.422788</td>\n",
       "      <td>Максим Руссо</td>\n",
       "    </tr>\n",
       "    <tr>\n",
       "      <th>7961</th>\n",
       "      <td>74001</td>\n",
       "      <td>4.058530</td>\n",
       "      <td>Игорь Мокин</td>\n",
       "    </tr>\n",
       "    <tr>\n",
       "      <th>5234</th>\n",
       "      <td>38196</td>\n",
       "      <td>4.007234</td>\n",
       "      <td>Артём Митрофанов</td>\n",
       "    </tr>\n",
       "    <tr>\n",
       "      <th>4904</th>\n",
       "      <td>36035</td>\n",
       "      <td>3.913514</td>\n",
       "      <td>Алексей Шередега</td>\n",
       "    </tr>\n",
       "    <tr>\n",
       "      <th>5054</th>\n",
       "      <td>37047</td>\n",
       "      <td>3.894049</td>\n",
       "      <td>Мария Юнгер</td>\n",
       "    </tr>\n",
       "    <tr>\n",
       "      <th>3546</th>\n",
       "      <td>25757</td>\n",
       "      <td>3.864854</td>\n",
       "      <td>Мария Летюхина</td>\n",
       "    </tr>\n",
       "    <tr>\n",
       "      <th>4886</th>\n",
       "      <td>35877</td>\n",
       "      <td>3.840652</td>\n",
       "      <td>Богдан Шевченко</td>\n",
       "    </tr>\n",
       "    <tr>\n",
       "      <th>2087</th>\n",
       "      <td>15123</td>\n",
       "      <td>3.814703</td>\n",
       "      <td>Ирина Колесникова</td>\n",
       "    </tr>\n",
       "    <tr>\n",
       "      <th>585</th>\n",
       "      <td>4270</td>\n",
       "      <td>3.759591</td>\n",
       "      <td>Александра Брутер</td>\n",
       "    </tr>\n",
       "    <tr>\n",
       "      <th>2176</th>\n",
       "      <td>15727</td>\n",
       "      <td>3.757143</td>\n",
       "      <td>Александр Коробейников</td>\n",
       "    </tr>\n",
       "    <tr>\n",
       "      <th>4157</th>\n",
       "      <td>30270</td>\n",
       "      <td>3.755337</td>\n",
       "      <td>Сергей Спешков</td>\n",
       "    </tr>\n",
       "    <tr>\n",
       "      <th>4137</th>\n",
       "      <td>30152</td>\n",
       "      <td>3.748894</td>\n",
       "      <td>Артём Сорожкин</td>\n",
       "    </tr>\n",
       "    <tr>\n",
       "      <th>9082</th>\n",
       "      <td>87637</td>\n",
       "      <td>3.733398</td>\n",
       "      <td>Антон Саксонов</td>\n",
       "    </tr>\n",
       "    <tr>\n",
       "      <th>4152</th>\n",
       "      <td>30260</td>\n",
       "      <td>3.732477</td>\n",
       "      <td>Евгений Спектор</td>\n",
       "    </tr>\n",
       "    <tr>\n",
       "      <th>6817</th>\n",
       "      <td>60149</td>\n",
       "      <td>3.718125</td>\n",
       "      <td>Сергей Челышев</td>\n",
       "    </tr>\n",
       "    <tr>\n",
       "      <th>3164</th>\n",
       "      <td>22935</td>\n",
       "      <td>3.713725</td>\n",
       "      <td>Илья Новиков</td>\n",
       "    </tr>\n",
       "    <tr>\n",
       "      <th>2922</th>\n",
       "      <td>21137</td>\n",
       "      <td>3.691386</td>\n",
       "      <td>Кирилл Михайлов</td>\n",
       "    </tr>\n",
       "    <tr>\n",
       "      <th>4354</th>\n",
       "      <td>31848</td>\n",
       "      <td>3.686316</td>\n",
       "      <td>Александр Тобенгауз</td>\n",
       "    </tr>\n",
       "    <tr>\n",
       "      <th>218</th>\n",
       "      <td>1585</td>\n",
       "      <td>3.671680</td>\n",
       "      <td>Юлия Архангельская</td>\n",
       "    </tr>\n",
       "    <tr>\n",
       "      <th>3364</th>\n",
       "      <td>24384</td>\n",
       "      <td>3.669878</td>\n",
       "      <td>Евгений Пашковский</td>\n",
       "    </tr>\n",
       "  </tbody>\n",
       "</table>\n",
       "</div>"
      ],
      "text/plain": [
       "      player_id  strength                    name\n",
       "3767      27403  4.422788            Максим Руссо\n",
       "7961      74001  4.058530             Игорь Мокин\n",
       "5234      38196  4.007234        Артём Митрофанов\n",
       "4904      36035  3.913514        Алексей Шередега\n",
       "5054      37047  3.894049             Мария Юнгер\n",
       "3546      25757  3.864854          Мария Летюхина\n",
       "4886      35877  3.840652         Богдан Шевченко\n",
       "2087      15123  3.814703       Ирина Колесникова\n",
       "585        4270  3.759591       Александра Брутер\n",
       "2176      15727  3.757143  Александр Коробейников\n",
       "4157      30270  3.755337          Сергей Спешков\n",
       "4137      30152  3.748894          Артём Сорожкин\n",
       "9082      87637  3.733398          Антон Саксонов\n",
       "4152      30260  3.732477         Евгений Спектор\n",
       "6817      60149  3.718125          Сергей Челышев\n",
       "3164      22935  3.713725            Илья Новиков\n",
       "2922      21137  3.691386         Кирилл Михайлов\n",
       "4354      31848  3.686316     Александр Тобенгауз\n",
       "218        1585  3.671680      Юлия Архангельская\n",
       "3364      24384  3.669878      Евгений Пашковский"
      ]
     },
     "execution_count": 26,
     "metadata": {},
     "output_type": "execute_result"
    }
   ],
   "source": [
    "rating.sort_values(by='strength', ascending=False).head(20)"
   ]
  },
  {
   "cell_type": "markdown",
   "metadata": {},
   "source": [
    "### 5 - Рейтинг вопросов"
   ]
  },
  {
   "cell_type": "markdown",
   "metadata": {},
   "source": [
    "А что там с вопросами? Постройте “рейтинг-лист” турниров по сложности вопросов. Соответствует ли он интуиции (например, на чемпионате мира в целом должны быть сложные вопросы, а на турнирах для школьников — простые)? Если будет интересно: постройте топ сложных и простых вопросов со ссылками на конкретные записи в базе вопросов ЧГК (это чисто техническое дело, тут никакого ML нету)."
   ]
  },
  {
   "cell_type": "markdown",
   "metadata": {},
   "source": [
    "Сложность турнира посчитаем как среднюю сложность вопроса - возьмем средние коэффициенты нашей модели."
   ]
  },
  {
   "cell_type": "code",
   "execution_count": 52,
   "metadata": {},
   "outputs": [],
   "source": [
    "q_rating = dict(zip(unique_questions, em_classifier.w[-len(unique_questions):]))\n",
    "\n",
    "train['difficulty'] = train['question_id'].map(q_rating)\n",
    "train['tournament_name'] = train['tournament_id'].map(tournament_names)"
   ]
  },
  {
   "cell_type": "code",
   "execution_count": 53,
   "metadata": {},
   "outputs": [],
   "source": [
    "tournaments_rating = train[['tournament_name', 'question_id', 'difficulty']].drop_duplicates()\n",
    "tournaments_rating = tournaments_rating.groupby('tournament_name')['difficulty'].mean().sort_values().reset_index()"
   ]
  },
  {
   "cell_type": "code",
   "execution_count": 54,
   "metadata": {
    "scrolled": false
   },
   "outputs": [
    {
     "data": {
      "text/html": [
       "<div>\n",
       "<style scoped>\n",
       "    .dataframe tbody tr th:only-of-type {\n",
       "        vertical-align: middle;\n",
       "    }\n",
       "\n",
       "    .dataframe tbody tr th {\n",
       "        vertical-align: top;\n",
       "    }\n",
       "\n",
       "    .dataframe thead th {\n",
       "        text-align: right;\n",
       "    }\n",
       "</style>\n",
       "<table border=\"1\" class=\"dataframe\">\n",
       "  <thead>\n",
       "    <tr style=\"text-align: right;\">\n",
       "      <th></th>\n",
       "      <th>tournament_name</th>\n",
       "      <th>difficulty</th>\n",
       "    </tr>\n",
       "  </thead>\n",
       "  <tbody>\n",
       "    <tr>\n",
       "      <th>0</th>\n",
       "      <td>Чемпионат Санкт-Петербурга. Первая лига</td>\n",
       "      <td>-3.948983</td>\n",
       "    </tr>\n",
       "    <tr>\n",
       "      <th>1</th>\n",
       "      <td>Угрюмый Ёрш</td>\n",
       "      <td>-2.442413</td>\n",
       "    </tr>\n",
       "    <tr>\n",
       "      <th>2</th>\n",
       "      <td>Первенство правого полушария</td>\n",
       "      <td>-2.131632</td>\n",
       "    </tr>\n",
       "    <tr>\n",
       "      <th>3</th>\n",
       "      <td>Кубок городов</td>\n",
       "      <td>-1.886367</td>\n",
       "    </tr>\n",
       "    <tr>\n",
       "      <th>4</th>\n",
       "      <td>Воображаемый музей</td>\n",
       "      <td>-1.864949</td>\n",
       "    </tr>\n",
       "    <tr>\n",
       "      <th>5</th>\n",
       "      <td>Записки охотника</td>\n",
       "      <td>-1.770566</td>\n",
       "    </tr>\n",
       "    <tr>\n",
       "      <th>6</th>\n",
       "      <td>Ускользающая сова</td>\n",
       "      <td>-1.718708</td>\n",
       "    </tr>\n",
       "    <tr>\n",
       "      <th>7</th>\n",
       "      <td>Чемпионат России</td>\n",
       "      <td>-1.685182</td>\n",
       "    </tr>\n",
       "    <tr>\n",
       "      <th>8</th>\n",
       "      <td>Чемпионат Мира. Этап 3. Группа В</td>\n",
       "      <td>-1.645547</td>\n",
       "    </tr>\n",
       "    <tr>\n",
       "      <th>9</th>\n",
       "      <td>All Cats Are Beautiful</td>\n",
       "      <td>-1.640315</td>\n",
       "    </tr>\n",
       "    <tr>\n",
       "      <th>10</th>\n",
       "      <td>VERSUS: Коробейников vs. Матвеев</td>\n",
       "      <td>-1.592067</td>\n",
       "    </tr>\n",
       "    <tr>\n",
       "      <th>11</th>\n",
       "      <td>Знание – Сила VI</td>\n",
       "      <td>-1.577272</td>\n",
       "    </tr>\n",
       "    <tr>\n",
       "      <th>12</th>\n",
       "      <td>Ра-II: синхрон \"Борского корабела\"</td>\n",
       "      <td>-1.570987</td>\n",
       "    </tr>\n",
       "    <tr>\n",
       "      <th>13</th>\n",
       "      <td>Тихий Донец: омут первый</td>\n",
       "      <td>-1.543180</td>\n",
       "    </tr>\n",
       "    <tr>\n",
       "      <th>14</th>\n",
       "      <td>Антибинго</td>\n",
       "      <td>-1.516618</td>\n",
       "    </tr>\n",
       "    <tr>\n",
       "      <th>15</th>\n",
       "      <td>Чемпионат Мира. Этап 2. Группа В</td>\n",
       "      <td>-1.502936</td>\n",
       "    </tr>\n",
       "    <tr>\n",
       "      <th>16</th>\n",
       "      <td>Линч</td>\n",
       "      <td>-1.489995</td>\n",
       "    </tr>\n",
       "    <tr>\n",
       "      <th>17</th>\n",
       "      <td>Серия Premier. Седьмая печать</td>\n",
       "      <td>-1.463320</td>\n",
       "    </tr>\n",
       "    <tr>\n",
       "      <th>18</th>\n",
       "      <td>Чемпионат Мира. Финал. Группа С</td>\n",
       "      <td>-1.446709</td>\n",
       "    </tr>\n",
       "    <tr>\n",
       "      <th>19</th>\n",
       "      <td>Кубок Москвы</td>\n",
       "      <td>-1.425772</td>\n",
       "    </tr>\n",
       "    <tr>\n",
       "      <th>20</th>\n",
       "      <td>Чемпионат Мира. Этап 2 Группа С</td>\n",
       "      <td>-1.425669</td>\n",
       "    </tr>\n",
       "    <tr>\n",
       "      <th>21</th>\n",
       "      <td>Чемпионат Минска. Лига А. Тур четвёртый</td>\n",
       "      <td>-1.387954</td>\n",
       "    </tr>\n",
       "    <tr>\n",
       "      <th>22</th>\n",
       "      <td>Чемпионат Мира. Этап 3. Группа С</td>\n",
       "      <td>-1.377344</td>\n",
       "    </tr>\n",
       "    <tr>\n",
       "      <th>23</th>\n",
       "      <td>Чемпионат Мира. Финал. Группа В</td>\n",
       "      <td>-1.371934</td>\n",
       "    </tr>\n",
       "    <tr>\n",
       "      <th>24</th>\n",
       "      <td>Мемориал Дмитрия Коноваленко</td>\n",
       "      <td>-1.363430</td>\n",
       "    </tr>\n",
       "    <tr>\n",
       "      <th>25</th>\n",
       "      <td>Львов зимой. Адвокат</td>\n",
       "      <td>-1.349822</td>\n",
       "    </tr>\n",
       "    <tr>\n",
       "      <th>26</th>\n",
       "      <td>Кубок Кайнозоя</td>\n",
       "      <td>-1.270357</td>\n",
       "    </tr>\n",
       "    <tr>\n",
       "      <th>27</th>\n",
       "      <td>Чемпионат Минска. Лига А. Тур второй</td>\n",
       "      <td>-1.243183</td>\n",
       "    </tr>\n",
       "    <tr>\n",
       "      <th>28</th>\n",
       "      <td>Синхрон Кеста</td>\n",
       "      <td>-1.222693</td>\n",
       "    </tr>\n",
       "    <tr>\n",
       "      <th>29</th>\n",
       "      <td>Чемпионат Мира. Этап 1. Группа С</td>\n",
       "      <td>-1.218632</td>\n",
       "    </tr>\n",
       "  </tbody>\n",
       "</table>\n",
       "</div>"
      ],
      "text/plain": [
       "                            tournament_name  difficulty\n",
       "0   Чемпионат Санкт-Петербурга. Первая лига   -3.948983\n",
       "1                               Угрюмый Ёрш   -2.442413\n",
       "2              Первенство правого полушария   -2.131632\n",
       "3                             Кубок городов   -1.886367\n",
       "4                        Воображаемый музей   -1.864949\n",
       "5                          Записки охотника   -1.770566\n",
       "6                         Ускользающая сова   -1.718708\n",
       "7                          Чемпионат России   -1.685182\n",
       "8          Чемпионат Мира. Этап 3. Группа В   -1.645547\n",
       "9                    All Cats Are Beautiful   -1.640315\n",
       "10         VERSUS: Коробейников vs. Матвеев   -1.592067\n",
       "11                         Знание – Сила VI   -1.577272\n",
       "12       Ра-II: синхрон \"Борского корабела\"   -1.570987\n",
       "13                 Тихий Донец: омут первый   -1.543180\n",
       "14                                Антибинго   -1.516618\n",
       "15         Чемпионат Мира. Этап 2. Группа В   -1.502936\n",
       "16                                     Линч   -1.489995\n",
       "17            Серия Premier. Седьмая печать   -1.463320\n",
       "18          Чемпионат Мира. Финал. Группа С   -1.446709\n",
       "19                             Кубок Москвы   -1.425772\n",
       "20          Чемпионат Мира. Этап 2 Группа С   -1.425669\n",
       "21  Чемпионат Минска. Лига А. Тур четвёртый   -1.387954\n",
       "22         Чемпионат Мира. Этап 3. Группа С   -1.377344\n",
       "23          Чемпионат Мира. Финал. Группа В   -1.371934\n",
       "24             Мемориал Дмитрия Коноваленко   -1.363430\n",
       "25                     Львов зимой. Адвокат   -1.349822\n",
       "26                           Кубок Кайнозоя   -1.270357\n",
       "27     Чемпионат Минска. Лига А. Тур второй   -1.243183\n",
       "28                            Синхрон Кеста   -1.222693\n",
       "29         Чемпионат Мира. Этап 1. Группа С   -1.218632"
      ]
     },
     "execution_count": 54,
     "metadata": {},
     "output_type": "execute_result"
    }
   ],
   "source": [
    "# Самые сложные турниры по версии модели (сверху вниз)\n",
    "tournaments_rating.head(30)"
   ]
  },
  {
   "cell_type": "code",
   "execution_count": 55,
   "metadata": {},
   "outputs": [
    {
     "data": {
      "text/html": [
       "<div>\n",
       "<style scoped>\n",
       "    .dataframe tbody tr th:only-of-type {\n",
       "        vertical-align: middle;\n",
       "    }\n",
       "\n",
       "    .dataframe tbody tr th {\n",
       "        vertical-align: top;\n",
       "    }\n",
       "\n",
       "    .dataframe thead th {\n",
       "        text-align: right;\n",
       "    }\n",
       "</style>\n",
       "<table border=\"1\" class=\"dataframe\">\n",
       "  <thead>\n",
       "    <tr style=\"text-align: right;\">\n",
       "      <th></th>\n",
       "      <th>tournament_name</th>\n",
       "      <th>difficulty</th>\n",
       "    </tr>\n",
       "  </thead>\n",
       "  <tbody>\n",
       "    <tr>\n",
       "      <th>568</th>\n",
       "      <td>Студенческий чемпионат Калининградской области</td>\n",
       "      <td>1.377522</td>\n",
       "    </tr>\n",
       "    <tr>\n",
       "      <th>569</th>\n",
       "      <td>ВДИ - март</td>\n",
       "      <td>1.378733</td>\n",
       "    </tr>\n",
       "    <tr>\n",
       "      <th>570</th>\n",
       "      <td>Школьнае люстэрка</td>\n",
       "      <td>1.380424</td>\n",
       "    </tr>\n",
       "    <tr>\n",
       "      <th>571</th>\n",
       "      <td>ОЧВР. 3 тур</td>\n",
       "      <td>1.396357</td>\n",
       "    </tr>\n",
       "    <tr>\n",
       "      <th>572</th>\n",
       "      <td>Чемпионат Минска. Лига Б. Тур первый</td>\n",
       "      <td>1.418924</td>\n",
       "    </tr>\n",
       "    <tr>\n",
       "      <th>573</th>\n",
       "      <td>Первый турнир имени Джоуи Триббиани</td>\n",
       "      <td>1.432822</td>\n",
       "    </tr>\n",
       "    <tr>\n",
       "      <th>574</th>\n",
       "      <td>Лига Сибири. VI тур.</td>\n",
       "      <td>1.443624</td>\n",
       "    </tr>\n",
       "    <tr>\n",
       "      <th>575</th>\n",
       "      <td>Школьный Синхрон-lite. Выпуск 2.5</td>\n",
       "      <td>1.472545</td>\n",
       "    </tr>\n",
       "    <tr>\n",
       "      <th>576</th>\n",
       "      <td>Летний салат</td>\n",
       "      <td>1.475965</td>\n",
       "    </tr>\n",
       "    <tr>\n",
       "      <th>577</th>\n",
       "      <td>Лига Сибири. IV тур.</td>\n",
       "      <td>1.478000</td>\n",
       "    </tr>\n",
       "    <tr>\n",
       "      <th>578</th>\n",
       "      <td>Лига вузов. IV тур</td>\n",
       "      <td>1.488128</td>\n",
       "    </tr>\n",
       "    <tr>\n",
       "      <th>579</th>\n",
       "      <td>Синхрон простых вопросов. Зима</td>\n",
       "      <td>1.508054</td>\n",
       "    </tr>\n",
       "    <tr>\n",
       "      <th>580</th>\n",
       "      <td>Маленькае люстэрка</td>\n",
       "      <td>1.509974</td>\n",
       "    </tr>\n",
       "    <tr>\n",
       "      <th>581</th>\n",
       "      <td>Ничто, нигде, никогда</td>\n",
       "      <td>1.510148</td>\n",
       "    </tr>\n",
       "    <tr>\n",
       "      <th>582</th>\n",
       "      <td>Кубок малых городов</td>\n",
       "      <td>1.531780</td>\n",
       "    </tr>\n",
       "    <tr>\n",
       "      <th>583</th>\n",
       "      <td>Асинхрон по «Королю и Шуту»</td>\n",
       "      <td>1.553513</td>\n",
       "    </tr>\n",
       "    <tr>\n",
       "      <th>584</th>\n",
       "      <td>Осенняя кинолига</td>\n",
       "      <td>1.555641</td>\n",
       "    </tr>\n",
       "    <tr>\n",
       "      <th>585</th>\n",
       "      <td>KFC</td>\n",
       "      <td>1.595812</td>\n",
       "    </tr>\n",
       "    <tr>\n",
       "      <th>586</th>\n",
       "      <td>Гарри Поттер и 3 по 12</td>\n",
       "      <td>1.607163</td>\n",
       "    </tr>\n",
       "    <tr>\n",
       "      <th>587</th>\n",
       "      <td>Синхрон-lite. Выпуск XXX</td>\n",
       "      <td>1.614320</td>\n",
       "    </tr>\n",
       "    <tr>\n",
       "      <th>588</th>\n",
       "      <td>Синхрон-lite. Выпуск XXIX</td>\n",
       "      <td>1.654582</td>\n",
       "    </tr>\n",
       "    <tr>\n",
       "      <th>589</th>\n",
       "      <td>Joystick Cup</td>\n",
       "      <td>1.660047</td>\n",
       "    </tr>\n",
       "    <tr>\n",
       "      <th>590</th>\n",
       "      <td>(а)Синхрон-lite. Лига старта. Эпизод IV</td>\n",
       "      <td>1.734168</td>\n",
       "    </tr>\n",
       "    <tr>\n",
       "      <th>591</th>\n",
       "      <td>(а)Синхрон-lite. Лига старта. Эпизод X</td>\n",
       "      <td>1.787037</td>\n",
       "    </tr>\n",
       "    <tr>\n",
       "      <th>592</th>\n",
       "      <td>Второй тематический турнир имени Джоуи Триббиани</td>\n",
       "      <td>1.795349</td>\n",
       "    </tr>\n",
       "    <tr>\n",
       "      <th>593</th>\n",
       "      <td>(а)Синхрон-lite. Лига старта. Эпизод VII</td>\n",
       "      <td>1.869456</td>\n",
       "    </tr>\n",
       "    <tr>\n",
       "      <th>594</th>\n",
       "      <td>(а)Синхрон-lite. Лига старта. Эпизод VI</td>\n",
       "      <td>1.931870</td>\n",
       "    </tr>\n",
       "    <tr>\n",
       "      <th>595</th>\n",
       "      <td>(а)Синхрон-lite. Лига старта. Эпизод IX</td>\n",
       "      <td>2.057756</td>\n",
       "    </tr>\n",
       "    <tr>\n",
       "      <th>596</th>\n",
       "      <td>(а)Синхрон-lite. Лига старта. Эпизод III</td>\n",
       "      <td>2.090482</td>\n",
       "    </tr>\n",
       "    <tr>\n",
       "      <th>597</th>\n",
       "      <td>(а)Синхрон-lite. Лига старта. Эпизод V</td>\n",
       "      <td>2.233636</td>\n",
       "    </tr>\n",
       "  </tbody>\n",
       "</table>\n",
       "</div>"
      ],
      "text/plain": [
       "                                      tournament_name  difficulty\n",
       "568    Студенческий чемпионат Калининградской области    1.377522\n",
       "569                                        ВДИ - март    1.378733\n",
       "570                                 Школьнае люстэрка    1.380424\n",
       "571                                       ОЧВР. 3 тур    1.396357\n",
       "572              Чемпионат Минска. Лига Б. Тур первый    1.418924\n",
       "573               Первый турнир имени Джоуи Триббиани    1.432822\n",
       "574                              Лига Сибири. VI тур.    1.443624\n",
       "575                 Школьный Синхрон-lite. Выпуск 2.5    1.472545\n",
       "576                                      Летний салат    1.475965\n",
       "577                              Лига Сибири. IV тур.    1.478000\n",
       "578                                Лига вузов. IV тур    1.488128\n",
       "579                    Синхрон простых вопросов. Зима    1.508054\n",
       "580                                Маленькае люстэрка    1.509974\n",
       "581                             Ничто, нигде, никогда    1.510148\n",
       "582                               Кубок малых городов    1.531780\n",
       "583                       Асинхрон по «Королю и Шуту»    1.553513\n",
       "584                                  Осенняя кинолига    1.555641\n",
       "585                                               KFC    1.595812\n",
       "586                            Гарри Поттер и 3 по 12    1.607163\n",
       "587                          Синхрон-lite. Выпуск XXX    1.614320\n",
       "588                         Синхрон-lite. Выпуск XXIX    1.654582\n",
       "589                                      Joystick Cup    1.660047\n",
       "590           (а)Синхрон-lite. Лига старта. Эпизод IV    1.734168\n",
       "591            (а)Синхрон-lite. Лига старта. Эпизод X    1.787037\n",
       "592  Второй тематический турнир имени Джоуи Триббиани    1.795349\n",
       "593          (а)Синхрон-lite. Лига старта. Эпизод VII    1.869456\n",
       "594           (а)Синхрон-lite. Лига старта. Эпизод VI    1.931870\n",
       "595           (а)Синхрон-lite. Лига старта. Эпизод IX    2.057756\n",
       "596          (а)Синхрон-lite. Лига старта. Эпизод III    2.090482\n",
       "597            (а)Синхрон-lite. Лига старта. Эпизод V    2.233636"
      ]
     },
     "execution_count": 55,
     "metadata": {},
     "output_type": "execute_result"
    }
   ],
   "source": [
    "# Самые простые турниры по версии модели (снизу ввверх)\n",
    "tournaments_rating.tail(30)"
   ]
  }
 ],
 "metadata": {
  "kernelspec": {
   "display_name": "Python 3",
   "language": "python",
   "name": "python3"
  },
  "language_info": {
   "codemirror_mode": {
    "name": "ipython",
    "version": 3
   },
   "file_extension": ".py",
   "mimetype": "text/x-python",
   "name": "python",
   "nbconvert_exporter": "python",
   "pygments_lexer": "ipython3",
   "version": "3.6.7"
  }
 },
 "nbformat": 4,
 "nbformat_minor": 4
}
