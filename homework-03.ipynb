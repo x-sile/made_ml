{
 "cells": [
  {
   "cell_type": "code",
   "execution_count": 1,
   "metadata": {},
   "outputs": [],
   "source": [
    "import re\n",
    "\n",
    "import pandas as pd\n",
    "import numpy as np\n",
    "\n",
    "import pickle\n",
    "import scipy.stats as stats\n",
    "from scipy import sparse as sp\n",
    "from scipy.special import expit\n",
    "from sklearn.linear_model import LogisticRegression\n",
    "from sklearn.preprocessing import OneHotEncoder\n",
    "from tqdm import tqdm"
   ]
  },
  {
   "cell_type": "markdown",
   "metadata": {},
   "source": [
    "### 1 - Читаем и препроцессим данные"
   ]
  },
  {
   "cell_type": "markdown",
   "metadata": {},
   "source": [
    "Прочитайте и проанализируйте данные, выберите турниры, в которых есть данные о составах команд и повопросных результатах (поле mask в results.pkl). Для унификации предлагаю:\n",
    "- взять в тренировочный набор турниры с dateStart из 2019 года; \n",
    "- в тестовый — турниры с dateStart из 2020 года."
   ]
  },
  {
   "cell_type": "code",
   "execution_count": 2,
   "metadata": {},
   "outputs": [],
   "source": [
    "with open('results.pkl', 'rb') as f1, open('tournaments.pkl', 'rb') as f2, open('players.pkl', 'rb') as f3:\n",
    "    source_results = pickle.load(f1)\n",
    "    source_tournaments = pickle.load(f2)\n",
    "    source_players = pickle.load(f3)"
   ]
  },
  {
   "cell_type": "code",
   "execution_count": 3,
   "metadata": {},
   "outputs": [],
   "source": [
    "players_names = {v['id']: v['name'] + ' ' + v['surname'] for k, v in source_players.items()}\n",
    "tournament_names = {v['id']: v['name']for k, v in source_tournaments.items()}\n",
    "\n",
    "# Разделим турниры на трейн/тест\n",
    "train_tournaments = set([v['id'] for k, v in source_tournaments.items() if v['dateStart'][:4] == '2019'])\n",
    "test_tournaments = set([v['id'] for k, v in source_tournaments.items() if v['dateStart'][:4] == '2020'])"
   ]
  },
  {
   "cell_type": "code",
   "execution_count": 4,
   "metadata": {
    "scrolled": true
   },
   "outputs": [],
   "source": [
    "teams_dct = {}\n",
    "results_train = {}\n",
    "results_test = {}\n",
    "\n",
    "for tournament_id, teams_list in source_results.items():\n",
    "    tournament_results = {}\n",
    "    for team in teams_list:\n",
    "        team_mask = team.get('mask')\n",
    "        team_members = [player['player']['id'] for player in team['teamMembers']]\n",
    "        \n",
    "        # Оставим только команды с игроками и бинарной маской ответов\n",
    "        if team_mask is None or re.findall('[^01]', team_mask) or not team_members:\n",
    "            continue\n",
    "          \n",
    "        team_id = team['team']['id']\n",
    "        team_name = team['team']['name']\n",
    "        teams_dct[team_id] = team_name\n",
    "        \n",
    "        tournament_results[team_id] = {}\n",
    "        tournament_results[team_id]['mask'] = team_mask\n",
    "        tournament_results[team_id]['players'] = team_members\n",
    "    \n",
    "    # Уберем турниры с разным числом вопросов и разделим результаты на трейн/тест\n",
    "    if len(set(list(map(len, [team['mask'] for team in tournament_results.values()])))) == 1:  \n",
    "        if tournament_id in train_tournaments:\n",
    "            results_train[tournament_id] = tournament_results\n",
    "        elif tournament_id in test_tournaments:\n",
    "            results_test[tournament_id] = tournament_results"
   ]
  },
  {
   "cell_type": "markdown",
   "metadata": {},
   "source": [
    "### 2 - Baseline"
   ]
  },
  {
   "cell_type": "markdown",
   "metadata": {},
   "source": [
    "Постройте baseline-модель на основе линейной или логистической регрессии, которая будет обучать рейтинг-лист игроков. Замечания и подсказки:\n",
    "- повопросные результаты — это фактически результаты броска монетки, и их предсказание скорее всего имеет отношение к бинарной классификации;\n",
    "- в разных турнирах вопросы совсем разного уровня сложности, поэтому модель должна это учитывать; скорее всего, модель должна будет явно обучать не только силу каждого игрока, но и сложность каждого вопроса;\n",
    "- для baseline-модели можно забыть о командах и считать, что повопросные результаты команды просто относятся к каждому из её игроков."
   ]
  },
  {
   "cell_type": "markdown",
   "metadata": {},
   "source": [
    "Будем обучать коэффициенты при игроках и вопросах, то есть X - OHE-вектор размерности (N, n_questions + n_players)"
   ]
  },
  {
   "cell_type": "code",
   "execution_count": 5,
   "metadata": {},
   "outputs": [
    {
     "name": "stderr",
     "output_type": "stream",
     "text": [
      "100%|██████████| 604/604 [00:09<00:00, 65.43it/s] \n"
     ]
    }
   ],
   "source": [
    "train = []\n",
    "\n",
    "max_question_id = 0\n",
    "\n",
    "for tournament_id, teams in tqdm(results_train.items()):\n",
    "    for team_id, team in teams.items():\n",
    "        mask = np.array([np.int32(answer) for answer in team['mask']])\n",
    "        players = team['players']\n",
    "        questions = np.tile(np.arange(max_question_id, max_question_id + len(mask)), len(players))\n",
    "        answers = np.array(np.meshgrid(players, mask)).T.reshape(-1, 2)\n",
    "        answers = np.hstack([\n",
    "            np.repeat(tournament_id, len(questions)).reshape(-1, 1),\n",
    "            np.repeat(team_id, len(questions)).reshape(-1, 1),\n",
    "            answers, \n",
    "            questions.reshape(-1, 1)]\n",
    "        )\n",
    "        train.append(answers)\n",
    "        \n",
    "    max_question_id += len(mask)\n",
    "        \n",
    "train = np.vstack(train).astype(np.int32)\n",
    "train = pd.DataFrame(train, \n",
    "                     columns = ['tournament_id', 'team_id', 'player_id', 'answer', 'question_id'])"
   ]
  },
  {
   "cell_type": "code",
   "execution_count": 6,
   "metadata": {},
   "outputs": [],
   "source": [
    "ohe = OneHotEncoder(handle_unknown='ignore')\n",
    "\n",
    "X_tr = ohe.fit_transform(train[['player_id', 'question_id']])\n",
    "y_tr = train['answer']"
   ]
  },
  {
   "cell_type": "code",
   "execution_count": 7,
   "metadata": {},
   "outputs": [
    {
     "data": {
      "text/plain": [
       "LogisticRegression(C=1.0, class_weight=None, dual=False, fit_intercept=True,\n",
       "                   intercept_scaling=1, l1_ratio=None, max_iter=100,\n",
       "                   multi_class='auto', n_jobs=-1, penalty='l2', random_state=42,\n",
       "                   solver='lbfgs', tol=0.0001, verbose=0, warm_start=False)"
      ]
     },
     "execution_count": 7,
     "metadata": {},
     "output_type": "execute_result"
    }
   ],
   "source": [
    "lr = LogisticRegression(random_state=42, n_jobs=-1)\n",
    "\n",
    "lr.fit(X_tr, y_tr)"
   ]
  },
  {
   "cell_type": "markdown",
   "metadata": {},
   "source": [
    "Отранжируем игроков по коэффициенту в логистической регрессии"
   ]
  },
  {
   "cell_type": "code",
   "execution_count": 8,
   "metadata": {},
   "outputs": [],
   "source": [
    "unique_players = np.unique(train['player_id'])\n",
    "unique_questions = np.unique(train['question_id'])\n",
    "                    \n",
    "rating = pd.DataFrame({'player_id': unique_players,\n",
    "                       'strength': lr.coef_[0][:len(unique_players)]})\n",
    "rating['name'] = rating['player_id'].map(players_names)"
   ]
  },
  {
   "cell_type": "code",
   "execution_count": 9,
   "metadata": {},
   "outputs": [
    {
     "data": {
      "text/html": [
       "<div>\n",
       "<style scoped>\n",
       "    .dataframe tbody tr th:only-of-type {\n",
       "        vertical-align: middle;\n",
       "    }\n",
       "\n",
       "    .dataframe tbody tr th {\n",
       "        vertical-align: top;\n",
       "    }\n",
       "\n",
       "    .dataframe thead th {\n",
       "        text-align: right;\n",
       "    }\n",
       "</style>\n",
       "<table border=\"1\" class=\"dataframe\">\n",
       "  <thead>\n",
       "    <tr style=\"text-align: right;\">\n",
       "      <th></th>\n",
       "      <th>player_id</th>\n",
       "      <th>strength</th>\n",
       "      <th>name</th>\n",
       "    </tr>\n",
       "  </thead>\n",
       "  <tbody>\n",
       "    <tr>\n",
       "      <th>3767</th>\n",
       "      <td>27403</td>\n",
       "      <td>3.756316</td>\n",
       "      <td>Максим Руссо</td>\n",
       "    </tr>\n",
       "    <tr>\n",
       "      <th>585</th>\n",
       "      <td>4270</td>\n",
       "      <td>3.528304</td>\n",
       "      <td>Александра Брутер</td>\n",
       "    </tr>\n",
       "    <tr>\n",
       "      <th>5054</th>\n",
       "      <td>37047</td>\n",
       "      <td>3.416439</td>\n",
       "      <td>Мария Юнгер</td>\n",
       "    </tr>\n",
       "    <tr>\n",
       "      <th>4137</th>\n",
       "      <td>30152</td>\n",
       "      <td>3.356955</td>\n",
       "      <td>Артём Сорожкин</td>\n",
       "    </tr>\n",
       "    <tr>\n",
       "      <th>3953</th>\n",
       "      <td>28751</td>\n",
       "      <td>3.303127</td>\n",
       "      <td>Иван Семушин</td>\n",
       "    </tr>\n",
       "    <tr>\n",
       "      <th>3837</th>\n",
       "      <td>27822</td>\n",
       "      <td>3.285753</td>\n",
       "      <td>Михаил Савченков</td>\n",
       "    </tr>\n",
       "    <tr>\n",
       "      <th>2857</th>\n",
       "      <td>20691</td>\n",
       "      <td>3.267417</td>\n",
       "      <td>Станислав Мереминский</td>\n",
       "    </tr>\n",
       "    <tr>\n",
       "      <th>4673</th>\n",
       "      <td>34328</td>\n",
       "      <td>3.262248</td>\n",
       "      <td>Михаил Царёв</td>\n",
       "    </tr>\n",
       "    <tr>\n",
       "      <th>526</th>\n",
       "      <td>3843</td>\n",
       "      <td>3.259948</td>\n",
       "      <td>Светлана Бомешко</td>\n",
       "    </tr>\n",
       "    <tr>\n",
       "      <th>2506</th>\n",
       "      <td>18036</td>\n",
       "      <td>3.203949</td>\n",
       "      <td>Михаил Левандовский</td>\n",
       "    </tr>\n",
       "    <tr>\n",
       "      <th>4157</th>\n",
       "      <td>30270</td>\n",
       "      <td>3.195817</td>\n",
       "      <td>Сергей Спешков</td>\n",
       "    </tr>\n",
       "    <tr>\n",
       "      <th>5234</th>\n",
       "      <td>38196</td>\n",
       "      <td>3.186417</td>\n",
       "      <td>Артём Митрофанов</td>\n",
       "    </tr>\n",
       "    <tr>\n",
       "      <th>6559</th>\n",
       "      <td>56647</td>\n",
       "      <td>3.175024</td>\n",
       "      <td>Наталья Горелова</td>\n",
       "    </tr>\n",
       "    <tr>\n",
       "      <th>1251</th>\n",
       "      <td>9061</td>\n",
       "      <td>3.165136</td>\n",
       "      <td>Евгений Дёмин</td>\n",
       "    </tr>\n",
       "    <tr>\n",
       "      <th>3164</th>\n",
       "      <td>22935</td>\n",
       "      <td>3.156470</td>\n",
       "      <td>Илья Новиков</td>\n",
       "    </tr>\n",
       "    <tr>\n",
       "      <th>2087</th>\n",
       "      <td>15123</td>\n",
       "      <td>3.116056</td>\n",
       "      <td>Ирина Колесникова</td>\n",
       "    </tr>\n",
       "    <tr>\n",
       "      <th>1673</th>\n",
       "      <td>12307</td>\n",
       "      <td>3.098737</td>\n",
       "      <td>Светлана Иванцова</td>\n",
       "    </tr>\n",
       "    <tr>\n",
       "      <th>2262</th>\n",
       "      <td>16332</td>\n",
       "      <td>3.094722</td>\n",
       "      <td>Николай Крапиль</td>\n",
       "    </tr>\n",
       "    <tr>\n",
       "      <th>3148</th>\n",
       "      <td>22799</td>\n",
       "      <td>3.077229</td>\n",
       "      <td>Сергей Николенко</td>\n",
       "    </tr>\n",
       "    <tr>\n",
       "      <th>3546</th>\n",
       "      <td>25757</td>\n",
       "      <td>3.074420</td>\n",
       "      <td>Мария Летюхина</td>\n",
       "    </tr>\n",
       "  </tbody>\n",
       "</table>\n",
       "</div>"
      ],
      "text/plain": [
       "      player_id  strength                   name\n",
       "3767      27403  3.756316           Максим Руссо\n",
       "585        4270  3.528304      Александра Брутер\n",
       "5054      37047  3.416439            Мария Юнгер\n",
       "4137      30152  3.356955         Артём Сорожкин\n",
       "3953      28751  3.303127           Иван Семушин\n",
       "3837      27822  3.285753       Михаил Савченков\n",
       "2857      20691  3.267417  Станислав Мереминский\n",
       "4673      34328  3.262248           Михаил Царёв\n",
       "526        3843  3.259948       Светлана Бомешко\n",
       "2506      18036  3.203949    Михаил Левандовский\n",
       "4157      30270  3.195817         Сергей Спешков\n",
       "5234      38196  3.186417       Артём Митрофанов\n",
       "6559      56647  3.175024       Наталья Горелова\n",
       "1251       9061  3.165136          Евгений Дёмин\n",
       "3164      22935  3.156470           Илья Новиков\n",
       "2087      15123  3.116056      Ирина Колесникова\n",
       "1673      12307  3.098737      Светлана Иванцова\n",
       "2262      16332  3.094722        Николай Крапиль\n",
       "3148      22799  3.077229       Сергей Николенко\n",
       "3546      25757  3.074420         Мария Летюхина"
      ]
     },
     "execution_count": 9,
     "metadata": {},
     "output_type": "execute_result"
    }
   ],
   "source": [
    "rating.sort_values(by='strength', ascending=False).head(20)"
   ]
  },
  {
   "cell_type": "markdown",
   "metadata": {},
   "source": [
    "Такой вот у нас получился рейтинг (топ 20). Если сравнить с официальным рейтингом, то становится ясно, что это не ноунеймы=)"
   ]
  },
  {
   "cell_type": "markdown",
   "metadata": {},
   "source": [
    "### 3 - Оценка качества"
   ]
  },
  {
   "cell_type": "markdown",
   "metadata": {},
   "source": [
    "Качество рейтинг-системы оценивается качеством предсказаний результатов турниров. Но сами повопросные результаты наши модели предсказывать вряд ли смогут, ведь неизвестно, насколько сложными окажутся вопросы в будущих турнирах; да и не нужны эти предсказания сами по себе. Поэтому:\n",
    "- предложите способ предсказать результаты нового турнира с известными составами, но неизвестными вопросами, в виде ранжирования команд;\n",
    "- в качестве метрики качества на тестовом наборе давайте считать ранговые корреляции Спирмена и Кендалла (их можно взять в пакете scipy) между реальным ранжированием в результатах турнира и предсказанным моделью, усреднённые по тестовому множеству турниров."
   ]
  },
  {
   "cell_type": "markdown",
   "metadata": {},
   "source": [
    "Силу команд оценим как вероятность того, что хотя бы один участник ответит верно на 1 вопрос (сложность вопроса учитывать не будем, проставим для этих признаков нолики)"
   ]
  },
  {
   "cell_type": "code",
   "execution_count": 10,
   "metadata": {},
   "outputs": [],
   "source": [
    "players_train = set(unique_players)\n",
    "questions_train = set(unique_questions)"
   ]
  },
  {
   "cell_type": "code",
   "execution_count": 11,
   "metadata": {
    "scrolled": true
   },
   "outputs": [
    {
     "name": "stderr",
     "output_type": "stream",
     "text": [
      "100%|██████████| 156/156 [00:02<00:00, 77.10it/s] \n"
     ]
    }
   ],
   "source": [
    "test = []\n",
    "for tournament_id, teams in tqdm(results_test.items()):\n",
    "    for team_id, team in teams.items():\n",
    "        mask = np.array([np.int32(answer) for answer in team['mask']])\n",
    "        for player_id in team['players']:\n",
    "            # оставим только игроков из трейна \n",
    "            # может не совсем корректно и лучше подставлять среднюю силу, но по качеству это примерно одинаково\n",
    "            if player_id not in players_train: \n",
    "                continue\n",
    "            \n",
    "            # -1 - фиктивно добавим вопросы, которых не было\n",
    "            test.append((tournament_id, team_id, player_id, -1, sum(mask), len(mask))) \n",
    "        \n",
    "test = np.vstack(test).astype(np.int32)\n",
    "test = pd.DataFrame(test, \n",
    "                    columns = ['tournament_id', 'team_id', 'player_id', 'question_id', 'n_true', 'n_total'])"
   ]
  },
  {
   "cell_type": "code",
   "execution_count": 12,
   "metadata": {},
   "outputs": [],
   "source": [
    "X_te = test[['player_id', 'question_id']]\n",
    "X_te = ohe.transform(X_te)"
   ]
  },
  {
   "cell_type": "code",
   "execution_count": 13,
   "metadata": {},
   "outputs": [],
   "source": [
    "preds = lr.predict_proba(X_te)[:, 1]"
   ]
  },
  {
   "cell_type": "code",
   "execution_count": 14,
   "metadata": {},
   "outputs": [],
   "source": [
    "def compute_scores(data, preds):\n",
    "    data['pred'] = preds\n",
    "    data['score'] = data.groupby(['tournament_id', 'team_id'])['pred'].transform(lambda x: 1 - np.prod(1 - x))\n",
    "    rating = data[['tournament_id', 'team_id', 'n_true', 'score']].drop_duplicates().reset_index(drop=True)\n",
    "    \n",
    "    # Считаем реальный рейтинг команд\n",
    "    rating = rating.sort_values(by=['tournament_id', 'n_true'], ascending=False)\n",
    "    rating['real_rank'] = rating.groupby('tournament_id')['n_true'].transform(lambda x: np.arange(1, len(x) + 1))\n",
    "    \n",
    "    # Считаем предсказанный рейтинг\n",
    "    rating = rating.sort_values(by=['tournament_id', 'score'], ascending=False)\n",
    "    rating['pred_rank'] = rating.groupby('tournament_id')['score'].transform(lambda x: np.arange(1, len(x) + 1))\n",
    "\n",
    "    rating = rating.astype(np.int32)\n",
    "    \n",
    "    print(f\"Корреляция Спирмана: {rating.groupby('tournament_id').apply(lambda x: stats.spearmanr(x['real_rank'], x['pred_rank']).correlation).mean()}\")\n",
    "    print(f\"Корреляция Кендалла: {rating.groupby('tournament_id').apply(lambda x: stats.kendalltau(x['real_rank'], x['pred_rank']).correlation).mean()}\")"
   ]
  },
  {
   "cell_type": "code",
   "execution_count": 15,
   "metadata": {},
   "outputs": [
    {
     "name": "stdout",
     "output_type": "stream",
     "text": [
      "Корреляция Спирмана: 0.7719380041155093\n",
      "Корреляция Кендалла: 0.6025156026312651\n"
     ]
    }
   ],
   "source": [
    "compute_scores(test, preds)"
   ]
  },
  {
   "cell_type": "markdown",
   "metadata": {},
   "source": [
    "Корреляции в норме!"
   ]
  },
  {
   "cell_type": "markdown",
   "metadata": {},
   "source": [
    "### 4 - EM"
   ]
  },
  {
   "cell_type": "markdown",
   "metadata": {},
   "source": [
    "Теперь главное: ЧГК — это всё-таки командная игра. Поэтому:\n",
    "- предложите способ учитывать то, что на вопрос отвечают сразу несколько игроков; скорее всего, понадобятся скрытые переменные; не стесняйтесь делать упрощающие предположения, но теперь переменные “игрок X ответил на вопрос Y” при условии данных должны стать зависимыми для игроков одной и той же команды;\n",
    "- разработайте EM-схему для обучения этой модели, реализуйте её в коде;\n",
    "- обучите несколько итераций, убедитесь, что целевые метрики со временем растут (скорее всего, ненамного, но расти должны), выберите лучшую модель, используя целевые метрики."
   ]
  },
  {
   "cell_type": "markdown",
   "metadata": {},
   "source": [
    "До этого мы считали, что если команда ответила на вопрос, то и игрок на него ответил. На самом деле это не так, и нам нужно оценить вероятность ответа игрока при условии \"силы команды\". \"Силой команды\" можно назвать, например, среднее число ответивших на вопрос игроков, но там образуются сложные вычисления с binominal poisson distribution. Предлагаю попробовать считать \"силой команды\", как и ранее, вероятность хотя бы одного игрока ответить на вопрос. Также предположим, что \"сила команды\", если игрок ответил верно, равна 1. Тогда:\n",
    "- P(player = 1 | team) = P(team | player = 1) * P(player = 1) / P(team) =  P(player = 1) / P(team)\n",
    "- Также будем считать, что P(player = 1 | team ) = 0, если команда ответила на вопрос неверно\n",
    "\n",
    "Соответсвенно, на E-шаге оцениваем P(player = 1 | team), а на M-шаге обучаем логистическую регрессию на этом таргете, на выходе получаем значения P(player = 1). P(team), как и ранее, оцениваем как вероятность того, что хотя бы 1 игрок ответит верно: P(team) = 1 - П[1 - P(player = 1)]"
   ]
  },
  {
   "cell_type": "code",
   "execution_count": 16,
   "metadata": {},
   "outputs": [],
   "source": [
    "def log_loss(y_true, y_pred):\n",
    "    return - np.mean(y_true * np.log(y_pred) + (1 - y_true) * np.log(1 - y_pred))\n",
    "\n",
    "class EMClassifier:\n",
    "    \n",
    "    def __init__(self, w=None, lr=25, n_iter=30, batch_size=5000, verbose=1):\n",
    "        self.w = w\n",
    "        self.lr = lr\n",
    "        self.n_iter = n_iter\n",
    "        self.batch_size = batch_size\n",
    "        self.verbose = 1\n",
    "        \n",
    "    def _add_intercept(self, X):\n",
    "        return sp.hstack((np.ones((X.shape[0], 1)), X), format='csr')\n",
    "    \n",
    "    def _init_w(self, dim):\n",
    "        self.w = np.random.randn(dim)\n",
    "        \n",
    "    def _E_step(self, data, preds):\n",
    "        team_strength = pd.DataFrame({'team_id': data['team_id'],\n",
    "                                      'question_id': data['question_id'], \n",
    "                                      'team_strength': 1 - preds})\n",
    "        team_strength = team_strength.groupby(['team_id', 'question_id']).agg({'team_strength': 'prod'}).reset_index()\n",
    "        team_strength['team_strength'] = 1 - team_strength['team_strength']\n",
    "        team_strength = data[['team_id', 'question_id']].merge(team_strength)\n",
    "        y = np.clip(preds / team_strength['team_strength'], 0, 1).values # переведем к вероятностям\n",
    "        y[data['answer'] == 0] = 0\n",
    "        return y\n",
    "        \n",
    "    def _M_step(self, X, y):\n",
    "        # Обучаем LogReg батчевым градиентным спуском, чтобы выскакивать из локальных минимумов\n",
    "        min_loss = np.inf\n",
    "        indices = np.arange(X.shape[0])\n",
    "        for _ in range(100):\n",
    "            indices = np.random.permutation(indices)\n",
    "            for batch_idx in np.array_split(indices, len(indices) // self.batch_size):\n",
    "                x_batch, y_batch = X[batch_idx], y[batch_idx]\n",
    "                grad = x_batch.T.dot(self.predict(x_batch) - y_batch) / len(y_batch)\n",
    "                self.w -= self.lr * grad\n",
    "                \n",
    "            cur_loss = log_loss(y, self.predict(X))\n",
    "            if min_loss - cur_loss < 1e-6:\n",
    "                break\n",
    "                \n",
    "            min_loss = cur_loss\n",
    "                \n",
    "    def fit(self, X_tr, train_data, X_te=None, test_data=None):\n",
    "        X_tr = self._add_intercept(X_tr)\n",
    "        if self.w is None or len(self.w) != X_tr.shape[1]:\n",
    "            self._init_w(X_tr.shape[1])\n",
    "        \n",
    "        for iter_ in tqdm(range(self.n_iter)): \n",
    "            preds = self.predict(X_tr)\n",
    "            y = self._E_step(train_data, preds)\n",
    "            self._M_step(X_tr, y)\n",
    "            if self.verbose is not None and X_te is not None and test_data is not None and iter_ % self.verbose == 0:\n",
    "                compute_scores(test_data, self.predict(X_te))\n",
    "                         \n",
    "    def predict(self, X):\n",
    "        if self.w is None:\n",
    "            raise ValueError('Model is not fitted yet!')\n",
    "        if len(self.w) != X.shape[1]:\n",
    "            X = self._add_intercept(X)\n",
    "        return expit(X.dot(self.w)) "
   ]
  },
  {
   "cell_type": "code",
   "execution_count": 17,
   "metadata": {},
   "outputs": [],
   "source": [
    "# Инициализируем нашей обученной моделькой, чтобы не ждать вечность\n",
    "w_init = np.hstack([lr.intercept_, lr.coef_[0]])\n",
    "em_classifier = EMClassifier(w_init)"
   ]
  },
  {
   "cell_type": "code",
   "execution_count": 18,
   "metadata": {
    "scrolled": false
   },
   "outputs": [
    {
     "name": "stderr",
     "output_type": "stream",
     "text": [
      "  3%|▎         | 1/30 [02:05<1:00:26, 125.05s/it]"
     ]
    },
    {
     "name": "stdout",
     "output_type": "stream",
     "text": [
      "Корреляция Спирмана: 0.7799039629597272\n",
      "Корреляция Кендалла: 0.6098351144446355\n"
     ]
    },
    {
     "name": "stderr",
     "output_type": "stream",
     "text": [
      "  7%|▋         | 2/30 [04:50<1:03:57, 137.07s/it]"
     ]
    },
    {
     "name": "stdout",
     "output_type": "stream",
     "text": [
      "Корреляция Спирмана: 0.7873799895578352\n",
      "Корреляция Кендалла: 0.6178181408270768\n"
     ]
    },
    {
     "name": "stderr",
     "output_type": "stream",
     "text": [
      " 10%|█         | 3/30 [06:58<1:00:30, 134.47s/it]"
     ]
    },
    {
     "name": "stdout",
     "output_type": "stream",
     "text": [
      "Корреляция Спирмана: 0.7872983348240282\n",
      "Корреляция Кендалла: 0.6167424055366465\n"
     ]
    },
    {
     "name": "stderr",
     "output_type": "stream",
     "text": [
      " 17%|█▋        | 5/30 [12:30<1:02:42, 150.52s/it]"
     ]
    },
    {
     "name": "stdout",
     "output_type": "stream",
     "text": [
      "Корреляция Спирмана: 0.7853483048012394\n",
      "Корреляция Кендалла: 0.6160702895414922\n"
     ]
    },
    {
     "name": "stderr",
     "output_type": "stream",
     "text": [
      " 20%|██        | 6/30 [15:15<1:01:57, 154.90s/it]"
     ]
    },
    {
     "name": "stdout",
     "output_type": "stream",
     "text": [
      "Корреляция Спирмана: 0.7875071434718868\n",
      "Корреляция Кендалла: 0.6182137990434058\n"
     ]
    },
    {
     "name": "stderr",
     "output_type": "stream",
     "text": [
      " 23%|██▎       | 7/30 [17:20<55:57, 145.99s/it]  "
     ]
    },
    {
     "name": "stdout",
     "output_type": "stream",
     "text": [
      "Корреляция Спирмана: 0.7879886304383457\n",
      "Корреляция Кендалла: 0.6176711173092037\n"
     ]
    },
    {
     "name": "stderr",
     "output_type": "stream",
     "text": [
      " 27%|██▋       | 8/30 [19:24<51:04, 139.31s/it]"
     ]
    },
    {
     "name": "stdout",
     "output_type": "stream",
     "text": [
      "Корреляция Спирмана: 0.7889388484665216\n",
      "Корреляция Кендалла: 0.6186762783426969\n"
     ]
    },
    {
     "name": "stderr",
     "output_type": "stream",
     "text": [
      " 30%|███       | 9/30 [21:28<47:13, 134.93s/it]"
     ]
    },
    {
     "name": "stdout",
     "output_type": "stream",
     "text": [
      "Корреляция Спирмана: 0.7880129653216139\n",
      "Корреляция Кендалла: 0.617632299053489\n"
     ]
    },
    {
     "name": "stderr",
     "output_type": "stream",
     "text": [
      " 33%|███▎      | 10/30 [23:32<43:47, 131.39s/it]"
     ]
    },
    {
     "name": "stdout",
     "output_type": "stream",
     "text": [
      "Корреляция Спирмана: 0.7885177334235475\n",
      "Корреляция Кендалла: 0.6180750073913128\n"
     ]
    },
    {
     "name": "stderr",
     "output_type": "stream",
     "text": [
      " 37%|███▋      | 11/30 [25:37<41:02, 129.60s/it]"
     ]
    },
    {
     "name": "stdout",
     "output_type": "stream",
     "text": [
      "Корреляция Спирмана: 0.7881860446093553\n",
      "Корреляция Кендалла: 0.6183038047391144\n"
     ]
    },
    {
     "name": "stderr",
     "output_type": "stream",
     "text": [
      " 40%|████      | 12/30 [27:41<38:23, 128.00s/it]"
     ]
    },
    {
     "name": "stdout",
     "output_type": "stream",
     "text": [
      "Корреляция Спирмана: 0.7890508959892847\n",
      "Корреляция Кендалла: 0.6186838691860261\n"
     ]
    },
    {
     "name": "stderr",
     "output_type": "stream",
     "text": [
      " 43%|████▎     | 13/30 [29:50<36:19, 128.23s/it]"
     ]
    },
    {
     "name": "stdout",
     "output_type": "stream",
     "text": [
      "Корреляция Спирмана: 0.7899299798720636\n",
      "Корреляция Кендалла: 0.6197387645545778\n"
     ]
    },
    {
     "name": "stderr",
     "output_type": "stream",
     "text": [
      " 47%|████▋     | 14/30 [31:53<33:47, 126.70s/it]"
     ]
    },
    {
     "name": "stdout",
     "output_type": "stream",
     "text": [
      "Корреляция Спирмана: 0.7893833786938603\n",
      "Корреляция Кендалла: 0.6192272031455192\n"
     ]
    },
    {
     "name": "stderr",
     "output_type": "stream",
     "text": [
      " 50%|█████     | 15/30 [33:58<31:31, 126.13s/it]"
     ]
    },
    {
     "name": "stdout",
     "output_type": "stream",
     "text": [
      "Корреляция Спирмана: 0.7897268290007629\n",
      "Корреляция Кендалла: 0.618814986973528\n"
     ]
    },
    {
     "name": "stderr",
     "output_type": "stream",
     "text": [
      " 53%|█████▎    | 16/30 [36:43<32:07, 137.66s/it]"
     ]
    },
    {
     "name": "stdout",
     "output_type": "stream",
     "text": [
      "Корреляция Спирмана: 0.7840236065932421\n",
      "Корреляция Кендалла: 0.6129263211523598\n"
     ]
    },
    {
     "name": "stderr",
     "output_type": "stream",
     "text": [
      " 57%|█████▋    | 17/30 [39:28<31:36, 145.87s/it]"
     ]
    },
    {
     "name": "stdout",
     "output_type": "stream",
     "text": [
      "Корреляция Спирмана: 0.7904904300754616\n",
      "Корреляция Кендалла: 0.6207158748577092\n"
     ]
    },
    {
     "name": "stderr",
     "output_type": "stream",
     "text": [
      " 60%|██████    | 18/30 [41:29<27:42, 138.58s/it]"
     ]
    },
    {
     "name": "stdout",
     "output_type": "stream",
     "text": [
      "Корреляция Спирмана: 0.7922125244598454\n",
      "Корреляция Кендалла: 0.6220256305093348\n"
     ]
    },
    {
     "name": "stderr",
     "output_type": "stream",
     "text": [
      " 63%|██████▎   | 19/30 [45:19<30:26, 166.05s/it]"
     ]
    },
    {
     "name": "stdout",
     "output_type": "stream",
     "text": [
      "Корреляция Спирмана: 0.793106271804192\n",
      "Корреляция Кендалла: 0.621962682826613\n"
     ]
    },
    {
     "name": "stderr",
     "output_type": "stream",
     "text": [
      " 67%|██████▋   | 20/30 [47:21<25:26, 152.68s/it]"
     ]
    },
    {
     "name": "stdout",
     "output_type": "stream",
     "text": [
      "Корреляция Спирмана: 0.7928588970815796\n",
      "Корреляция Кендалла: 0.6219473622690256\n"
     ]
    },
    {
     "name": "stderr",
     "output_type": "stream",
     "text": [
      " 70%|███████   | 21/30 [49:24<21:35, 143.90s/it]"
     ]
    },
    {
     "name": "stdout",
     "output_type": "stream",
     "text": [
      "Корреляция Спирмана: 0.793548230619145\n",
      "Корреляция Кендалла: 0.6226735017424763\n"
     ]
    },
    {
     "name": "stderr",
     "output_type": "stream",
     "text": [
      " 73%|███████▎  | 22/30 [51:29<18:26, 138.29s/it]"
     ]
    },
    {
     "name": "stdout",
     "output_type": "stream",
     "text": [
      "Корреляция Спирмана: 0.7940655099904405\n",
      "Корреляция Кендалла: 0.6228758828874157\n"
     ]
    },
    {
     "name": "stderr",
     "output_type": "stream",
     "text": [
      " 77%|███████▋  | 23/30 [53:33<15:37, 133.86s/it]"
     ]
    },
    {
     "name": "stdout",
     "output_type": "stream",
     "text": [
      "Корреляция Спирмана: 0.7936589831885364\n",
      "Корреляция Кендалла: 0.6236546081474534\n"
     ]
    },
    {
     "name": "stderr",
     "output_type": "stream",
     "text": [
      " 80%|████████  | 24/30 [55:35<13:01, 130.26s/it]"
     ]
    },
    {
     "name": "stdout",
     "output_type": "stream",
     "text": [
      "Корреляция Спирмана: 0.7929306037846936\n",
      "Корреляция Кендалла: 0.6222896593764582\n"
     ]
    },
    {
     "name": "stderr",
     "output_type": "stream",
     "text": [
      " 83%|████████▎ | 25/30 [57:39<10:41, 128.34s/it]"
     ]
    },
    {
     "name": "stdout",
     "output_type": "stream",
     "text": [
      "Корреляция Спирмана: 0.7926683291818414\n",
      "Корреляция Кендалла: 0.6214996403441121\n"
     ]
    },
    {
     "name": "stderr",
     "output_type": "stream",
     "text": [
      " 87%|████████▋ | 26/30 [59:41<08:25, 126.41s/it]"
     ]
    },
    {
     "name": "stdout",
     "output_type": "stream",
     "text": [
      "Корреляция Спирмана: 0.7924757306058903\n",
      "Корреляция Кендалла: 0.6212914484264461\n"
     ]
    },
    {
     "name": "stderr",
     "output_type": "stream",
     "text": [
      " 90%|█████████ | 27/30 [1:01:44<06:16, 125.47s/it]"
     ]
    },
    {
     "name": "stdout",
     "output_type": "stream",
     "text": [
      "Корреляция Спирмана: 0.7936636100215448\n",
      "Корреляция Кендалла: 0.6223449790075818\n"
     ]
    },
    {
     "name": "stderr",
     "output_type": "stream",
     "text": [
      " 93%|█████████▎| 28/30 [1:03:45<04:08, 124.31s/it]"
     ]
    },
    {
     "name": "stdout",
     "output_type": "stream",
     "text": [
      "Корреляция Спирмана: 0.7927085945065636\n",
      "Корреляция Кендалла: 0.6214497380817026\n"
     ]
    },
    {
     "name": "stderr",
     "output_type": "stream",
     "text": [
      " 97%|█████████▋| 29/30 [1:05:49<02:04, 124.10s/it]"
     ]
    },
    {
     "name": "stdout",
     "output_type": "stream",
     "text": [
      "Корреляция Спирмана: 0.7938738994506983\n",
      "Корреляция Кендалла: 0.6225931166276775\n"
     ]
    },
    {
     "name": "stderr",
     "output_type": "stream",
     "text": [
      "100%|██████████| 30/30 [1:07:51<00:00, 135.71s/it]"
     ]
    },
    {
     "name": "stdout",
     "output_type": "stream",
     "text": [
      "Корреляция Спирмана: 0.7933577836314648\n",
      "Корреляция Кендалла: 0.622126033101469\n"
     ]
    },
    {
     "name": "stderr",
     "output_type": "stream",
     "text": [
      "\n"
     ]
    }
   ],
   "source": [
    "# Обучим 30 эпох\n",
    "em_classifier.fit(X_tr, train, X_te, test)"
   ]
  },
  {
   "cell_type": "markdown",
   "metadata": {},
   "source": [
    "В целом, получилось добиться неплохого прироста относительно бейзлайна. Посмотрим еще раз рейтинг игроков."
   ]
  },
  {
   "cell_type": "code",
   "execution_count": 29,
   "metadata": {
    "scrolled": true
   },
   "outputs": [],
   "source": [
    "rating = pd.DataFrame({'player_id': unique_players,\n",
    "                       'strength': em_classifier.w[1:1 + len(unique_players)]})\n",
    "rating['name'] = rating['player_id'].map(players_names)\n",
    "rating['questions_count'] = rating['player_id'].map(train.groupby('player_id')['question_id'].count())"
   ]
  },
  {
   "cell_type": "code",
   "execution_count": 30,
   "metadata": {
    "scrolled": false
   },
   "outputs": [
    {
     "data": {
      "text/html": [
       "<div>\n",
       "<style scoped>\n",
       "    .dataframe tbody tr th:only-of-type {\n",
       "        vertical-align: middle;\n",
       "    }\n",
       "\n",
       "    .dataframe tbody tr th {\n",
       "        vertical-align: top;\n",
       "    }\n",
       "\n",
       "    .dataframe thead th {\n",
       "        text-align: right;\n",
       "    }\n",
       "</style>\n",
       "<table border=\"1\" class=\"dataframe\">\n",
       "  <thead>\n",
       "    <tr style=\"text-align: right;\">\n",
       "      <th></th>\n",
       "      <th>player_id</th>\n",
       "      <th>strength</th>\n",
       "      <th>name</th>\n",
       "      <th>questions_count</th>\n",
       "    </tr>\n",
       "  </thead>\n",
       "  <tbody>\n",
       "    <tr>\n",
       "      <th>3105</th>\n",
       "      <td>22474</td>\n",
       "      <td>4.674237</td>\n",
       "      <td>Илья Немец</td>\n",
       "      <td>75</td>\n",
       "    </tr>\n",
       "    <tr>\n",
       "      <th>4152</th>\n",
       "      <td>30260</td>\n",
       "      <td>4.428409</td>\n",
       "      <td>Евгений Спектор</td>\n",
       "      <td>233</td>\n",
       "    </tr>\n",
       "    <tr>\n",
       "      <th>2961</th>\n",
       "      <td>21428</td>\n",
       "      <td>4.256768</td>\n",
       "      <td>Вадим Молдавский</td>\n",
       "      <td>72</td>\n",
       "    </tr>\n",
       "    <tr>\n",
       "      <th>8863</th>\n",
       "      <td>84698</td>\n",
       "      <td>4.184638</td>\n",
       "      <td>Анастасия Лубенникова</td>\n",
       "      <td>207</td>\n",
       "    </tr>\n",
       "    <tr>\n",
       "      <th>3767</th>\n",
       "      <td>27403</td>\n",
       "      <td>4.163425</td>\n",
       "      <td>Максим Руссо</td>\n",
       "      <td>1796</td>\n",
       "    </tr>\n",
       "    <tr>\n",
       "      <th>2087</th>\n",
       "      <td>15123</td>\n",
       "      <td>4.144887</td>\n",
       "      <td>Ирина Колесникова</td>\n",
       "      <td>441</td>\n",
       "    </tr>\n",
       "    <tr>\n",
       "      <th>5234</th>\n",
       "      <td>38196</td>\n",
       "      <td>4.118416</td>\n",
       "      <td>Артём Митрофанов</td>\n",
       "      <td>546</td>\n",
       "    </tr>\n",
       "    <tr>\n",
       "      <th>4477</th>\n",
       "      <td>32765</td>\n",
       "      <td>4.095834</td>\n",
       "      <td>Полина Усыскин</td>\n",
       "      <td>646</td>\n",
       "    </tr>\n",
       "    <tr>\n",
       "      <th>3546</th>\n",
       "      <td>25757</td>\n",
       "      <td>4.047075</td>\n",
       "      <td>Мария Летюхина</td>\n",
       "      <td>291</td>\n",
       "    </tr>\n",
       "    <tr>\n",
       "      <th>37384</th>\n",
       "      <td>198607</td>\n",
       "      <td>3.987839</td>\n",
       "      <td>Марина Чикарова</td>\n",
       "      <td>72</td>\n",
       "    </tr>\n",
       "    <tr>\n",
       "      <th>7961</th>\n",
       "      <td>74001</td>\n",
       "      <td>3.977881</td>\n",
       "      <td>Игорь Мокин</td>\n",
       "      <td>900</td>\n",
       "    </tr>\n",
       "    <tr>\n",
       "      <th>4886</th>\n",
       "      <td>35877</td>\n",
       "      <td>3.977854</td>\n",
       "      <td>Богдан Шевченко</td>\n",
       "      <td>641</td>\n",
       "    </tr>\n",
       "    <tr>\n",
       "      <th>82</th>\n",
       "      <td>656</td>\n",
       "      <td>3.951751</td>\n",
       "      <td>Андрей Алакозов</td>\n",
       "      <td>138</td>\n",
       "    </tr>\n",
       "    <tr>\n",
       "      <th>1251</th>\n",
       "      <td>9061</td>\n",
       "      <td>3.939637</td>\n",
       "      <td>Евгений Дёмин</td>\n",
       "      <td>369</td>\n",
       "    </tr>\n",
       "    <tr>\n",
       "      <th>5035</th>\n",
       "      <td>36910</td>\n",
       "      <td>3.935730</td>\n",
       "      <td>Иван Эйхгольц</td>\n",
       "      <td>72</td>\n",
       "    </tr>\n",
       "    <tr>\n",
       "      <th>6993</th>\n",
       "      <td>62252</td>\n",
       "      <td>3.928870</td>\n",
       "      <td>Тимур Боков</td>\n",
       "      <td>382</td>\n",
       "    </tr>\n",
       "    <tr>\n",
       "      <th>50138</th>\n",
       "      <td>212663</td>\n",
       "      <td>3.923964</td>\n",
       "      <td>Майя Губина</td>\n",
       "      <td>72</td>\n",
       "    </tr>\n",
       "    <tr>\n",
       "      <th>5054</th>\n",
       "      <td>37047</td>\n",
       "      <td>3.873364</td>\n",
       "      <td>Мария Юнгер</td>\n",
       "      <td>452</td>\n",
       "    </tr>\n",
       "    <tr>\n",
       "      <th>3325</th>\n",
       "      <td>24006</td>\n",
       "      <td>3.868606</td>\n",
       "      <td>Дмитрий Панайотти</td>\n",
       "      <td>324</td>\n",
       "    </tr>\n",
       "    <tr>\n",
       "      <th>5136</th>\n",
       "      <td>37528</td>\n",
       "      <td>3.862498</td>\n",
       "      <td>Ася Жаглевская-Баранова</td>\n",
       "      <td>192</td>\n",
       "    </tr>\n",
       "    <tr>\n",
       "      <th>2176</th>\n",
       "      <td>15727</td>\n",
       "      <td>3.856755</td>\n",
       "      <td>Александр Коробейников</td>\n",
       "      <td>1175</td>\n",
       "    </tr>\n",
       "    <tr>\n",
       "      <th>2995</th>\n",
       "      <td>21661</td>\n",
       "      <td>3.806721</td>\n",
       "      <td>Артём Москаленко</td>\n",
       "      <td>294</td>\n",
       "    </tr>\n",
       "    <tr>\n",
       "      <th>1692</th>\n",
       "      <td>12474</td>\n",
       "      <td>3.779806</td>\n",
       "      <td>Константин Изъюров</td>\n",
       "      <td>513</td>\n",
       "    </tr>\n",
       "    <tr>\n",
       "      <th>4904</th>\n",
       "      <td>36035</td>\n",
       "      <td>3.771715</td>\n",
       "      <td>Алексей Шередега</td>\n",
       "      <td>1596</td>\n",
       "    </tr>\n",
       "    <tr>\n",
       "      <th>10557</th>\n",
       "      <td>101766</td>\n",
       "      <td>3.760410</td>\n",
       "      <td>Владислав Щипцов</td>\n",
       "      <td>108</td>\n",
       "    </tr>\n",
       "    <tr>\n",
       "      <th>7968</th>\n",
       "      <td>74051</td>\n",
       "      <td>3.742877</td>\n",
       "      <td>Рената Дерябина</td>\n",
       "      <td>72</td>\n",
       "    </tr>\n",
       "    <tr>\n",
       "      <th>4753</th>\n",
       "      <td>34846</td>\n",
       "      <td>3.738360</td>\n",
       "      <td>Антон Чернин</td>\n",
       "      <td>1346</td>\n",
       "    </tr>\n",
       "    <tr>\n",
       "      <th>7983</th>\n",
       "      <td>74147</td>\n",
       "      <td>3.734477</td>\n",
       "      <td>Александр Верёвкин</td>\n",
       "      <td>321</td>\n",
       "    </tr>\n",
       "    <tr>\n",
       "      <th>9379</th>\n",
       "      <td>90664</td>\n",
       "      <td>3.727216</td>\n",
       "      <td>Иван Ермолаев</td>\n",
       "      <td>667</td>\n",
       "    </tr>\n",
       "    <tr>\n",
       "      <th>3115</th>\n",
       "      <td>22530</td>\n",
       "      <td>3.720611</td>\n",
       "      <td>Екатерина Федякова</td>\n",
       "      <td>656</td>\n",
       "    </tr>\n",
       "    <tr>\n",
       "      <th>416</th>\n",
       "      <td>3081</td>\n",
       "      <td>3.711406</td>\n",
       "      <td>Нина Белявская</td>\n",
       "      <td>96</td>\n",
       "    </tr>\n",
       "    <tr>\n",
       "      <th>2546</th>\n",
       "      <td>18332</td>\n",
       "      <td>3.709290</td>\n",
       "      <td>Александр Либер</td>\n",
       "      <td>2937</td>\n",
       "    </tr>\n",
       "    <tr>\n",
       "      <th>4137</th>\n",
       "      <td>30152</td>\n",
       "      <td>3.704881</td>\n",
       "      <td>Артём Сорожкин</td>\n",
       "      <td>4006</td>\n",
       "    </tr>\n",
       "    <tr>\n",
       "      <th>218</th>\n",
       "      <td>1585</td>\n",
       "      <td>3.680674</td>\n",
       "      <td>Юлия Архангельская</td>\n",
       "      <td>1355</td>\n",
       "    </tr>\n",
       "    <tr>\n",
       "      <th>1541</th>\n",
       "      <td>11179</td>\n",
       "      <td>3.669740</td>\n",
       "      <td>Юрий Загребельный</td>\n",
       "      <td>1178</td>\n",
       "    </tr>\n",
       "    <tr>\n",
       "      <th>10969</th>\n",
       "      <td>105337</td>\n",
       "      <td>3.665126</td>\n",
       "      <td>Анна Тишкина</td>\n",
       "      <td>72</td>\n",
       "    </tr>\n",
       "    <tr>\n",
       "      <th>35169</th>\n",
       "      <td>196016</td>\n",
       "      <td>3.662731</td>\n",
       "      <td>Екатерина Рыбина</td>\n",
       "      <td>90</td>\n",
       "    </tr>\n",
       "    <tr>\n",
       "      <th>3656</th>\n",
       "      <td>26532</td>\n",
       "      <td>3.660546</td>\n",
       "      <td>Лариса Стрильчук</td>\n",
       "      <td>72</td>\n",
       "    </tr>\n",
       "    <tr>\n",
       "      <th>4751</th>\n",
       "      <td>34820</td>\n",
       "      <td>3.656808</td>\n",
       "      <td>Алёна Чёрная</td>\n",
       "      <td>494</td>\n",
       "    </tr>\n",
       "    <tr>\n",
       "      <th>4157</th>\n",
       "      <td>30270</td>\n",
       "      <td>3.635504</td>\n",
       "      <td>Сергей Спешков</td>\n",
       "      <td>3017</td>\n",
       "    </tr>\n",
       "    <tr>\n",
       "      <th>3287</th>\n",
       "      <td>23737</td>\n",
       "      <td>3.631485</td>\n",
       "      <td>Андрей Островский</td>\n",
       "      <td>2088</td>\n",
       "    </tr>\n",
       "    <tr>\n",
       "      <th>6556</th>\n",
       "      <td>56641</td>\n",
       "      <td>3.628652</td>\n",
       "      <td>Александр Лукашов</td>\n",
       "      <td>180</td>\n",
       "    </tr>\n",
       "    <tr>\n",
       "      <th>632</th>\n",
       "      <td>4637</td>\n",
       "      <td>3.625416</td>\n",
       "      <td>Антон Буторин</td>\n",
       "      <td>144</td>\n",
       "    </tr>\n",
       "    <tr>\n",
       "      <th>14300</th>\n",
       "      <td>130684</td>\n",
       "      <td>3.611511</td>\n",
       "      <td>Алексей Ерёмин</td>\n",
       "      <td>113</td>\n",
       "    </tr>\n",
       "    <tr>\n",
       "      <th>7340</th>\n",
       "      <td>66403</td>\n",
       "      <td>3.608024</td>\n",
       "      <td>Виталий Бреев</td>\n",
       "      <td>459</td>\n",
       "    </tr>\n",
       "    <tr>\n",
       "      <th>2202</th>\n",
       "      <td>15860</td>\n",
       "      <td>3.605077</td>\n",
       "      <td>Игорь Коршовский</td>\n",
       "      <td>522</td>\n",
       "    </tr>\n",
       "    <tr>\n",
       "      <th>1902</th>\n",
       "      <td>13968</td>\n",
       "      <td>3.596420</td>\n",
       "      <td>Лев Кертман</td>\n",
       "      <td>834</td>\n",
       "    </tr>\n",
       "    <tr>\n",
       "      <th>8820</th>\n",
       "      <td>84109</td>\n",
       "      <td>3.592683</td>\n",
       "      <td>Артур Саркисов</td>\n",
       "      <td>267</td>\n",
       "    </tr>\n",
       "    <tr>\n",
       "      <th>5902</th>\n",
       "      <td>47079</td>\n",
       "      <td>3.590748</td>\n",
       "      <td>Андрей Храмов</td>\n",
       "      <td>1844</td>\n",
       "    </tr>\n",
       "    <tr>\n",
       "      <th>1739</th>\n",
       "      <td>12770</td>\n",
       "      <td>3.590111</td>\n",
       "      <td>Илья Иткин</td>\n",
       "      <td>180</td>\n",
       "    </tr>\n",
       "  </tbody>\n",
       "</table>\n",
       "</div>"
      ],
      "text/plain": [
       "       player_id  strength                     name  questions_count\n",
       "3105       22474  4.674237               Илья Немец               75\n",
       "4152       30260  4.428409          Евгений Спектор              233\n",
       "2961       21428  4.256768         Вадим Молдавский               72\n",
       "8863       84698  4.184638    Анастасия Лубенникова              207\n",
       "3767       27403  4.163425             Максим Руссо             1796\n",
       "2087       15123  4.144887        Ирина Колесникова              441\n",
       "5234       38196  4.118416         Артём Митрофанов              546\n",
       "4477       32765  4.095834           Полина Усыскин              646\n",
       "3546       25757  4.047075           Мария Летюхина              291\n",
       "37384     198607  3.987839          Марина Чикарова               72\n",
       "7961       74001  3.977881              Игорь Мокин              900\n",
       "4886       35877  3.977854          Богдан Шевченко              641\n",
       "82           656  3.951751          Андрей Алакозов              138\n",
       "1251        9061  3.939637            Евгений Дёмин              369\n",
       "5035       36910  3.935730            Иван Эйхгольц               72\n",
       "6993       62252  3.928870              Тимур Боков              382\n",
       "50138     212663  3.923964              Майя Губина               72\n",
       "5054       37047  3.873364              Мария Юнгер              452\n",
       "3325       24006  3.868606        Дмитрий Панайотти              324\n",
       "5136       37528  3.862498  Ася Жаглевская-Баранова              192\n",
       "2176       15727  3.856755   Александр Коробейников             1175\n",
       "2995       21661  3.806721         Артём Москаленко              294\n",
       "1692       12474  3.779806       Константин Изъюров              513\n",
       "4904       36035  3.771715         Алексей Шередега             1596\n",
       "10557     101766  3.760410         Владислав Щипцов              108\n",
       "7968       74051  3.742877          Рената Дерябина               72\n",
       "4753       34846  3.738360             Антон Чернин             1346\n",
       "7983       74147  3.734477       Александр Верёвкин              321\n",
       "9379       90664  3.727216            Иван Ермолаев              667\n",
       "3115       22530  3.720611       Екатерина Федякова              656\n",
       "416         3081  3.711406           Нина Белявская               96\n",
       "2546       18332  3.709290          Александр Либер             2937\n",
       "4137       30152  3.704881           Артём Сорожкин             4006\n",
       "218         1585  3.680674       Юлия Архангельская             1355\n",
       "1541       11179  3.669740        Юрий Загребельный             1178\n",
       "10969     105337  3.665126             Анна Тишкина               72\n",
       "35169     196016  3.662731         Екатерина Рыбина               90\n",
       "3656       26532  3.660546         Лариса Стрильчук               72\n",
       "4751       34820  3.656808             Алёна Чёрная              494\n",
       "4157       30270  3.635504           Сергей Спешков             3017\n",
       "3287       23737  3.631485        Андрей Островский             2088\n",
       "6556       56641  3.628652        Александр Лукашов              180\n",
       "632         4637  3.625416            Антон Буторин              144\n",
       "14300     130684  3.611511           Алексей Ерёмин              113\n",
       "7340       66403  3.608024            Виталий Бреев              459\n",
       "2202       15860  3.605077         Игорь Коршовский              522\n",
       "1902       13968  3.596420              Лев Кертман              834\n",
       "8820       84109  3.592683           Артур Саркисов              267\n",
       "5902       47079  3.590748            Андрей Храмов             1844\n",
       "1739       12770  3.590111               Илья Иткин              180"
      ]
     },
     "execution_count": 30,
     "metadata": {},
     "output_type": "execute_result"
    }
   ],
   "source": [
    "rating.sort_values(by='strength', ascending=False).head(50)"
   ]
  },
  {
   "cell_type": "markdown",
   "metadata": {},
   "source": [
    "Как мы видим, в топе сейчас действительно стало много игроков, которые сыграли очень мало вопросов."
   ]
  },
  {
   "cell_type": "markdown",
   "metadata": {},
   "source": [
    "### 5 - Рейтинг вопросов"
   ]
  },
  {
   "cell_type": "markdown",
   "metadata": {},
   "source": [
    "А что там с вопросами? Постройте “рейтинг-лист” турниров по сложности вопросов. Соответствует ли он интуиции (например, на чемпионате мира в целом должны быть сложные вопросы, а на турнирах для школьников — простые)? Если будет интересно: постройте топ сложных и простых вопросов со ссылками на конкретные записи в базе вопросов ЧГК (это чисто техническое дело, тут никакого ML нету)."
   ]
  },
  {
   "cell_type": "markdown",
   "metadata": {},
   "source": [
    "Сложность турнира посчитаем как среднюю сложность вопроса - возьмем средние коэффициенты нашей модели."
   ]
  },
  {
   "cell_type": "code",
   "execution_count": 31,
   "metadata": {},
   "outputs": [],
   "source": [
    "q_rating = dict(zip(unique_questions, em_classifier.w[-len(unique_questions):]))\n",
    "\n",
    "train['difficulty'] = train['question_id'].map(q_rating)\n",
    "train['tournament_name'] = train['tournament_id'].map(tournament_names)"
   ]
  },
  {
   "cell_type": "code",
   "execution_count": 32,
   "metadata": {},
   "outputs": [],
   "source": [
    "tournaments_rating = train[['tournament_name', 'question_id', 'difficulty']].drop_duplicates()\n",
    "tournaments_rating = tournaments_rating.groupby('tournament_name')['difficulty'].mean().sort_values().reset_index()"
   ]
  },
  {
   "cell_type": "code",
   "execution_count": 33,
   "metadata": {
    "scrolled": false
   },
   "outputs": [
    {
     "data": {
      "text/html": [
       "<div>\n",
       "<style scoped>\n",
       "    .dataframe tbody tr th:only-of-type {\n",
       "        vertical-align: middle;\n",
       "    }\n",
       "\n",
       "    .dataframe tbody tr th {\n",
       "        vertical-align: top;\n",
       "    }\n",
       "\n",
       "    .dataframe thead th {\n",
       "        text-align: right;\n",
       "    }\n",
       "</style>\n",
       "<table border=\"1\" class=\"dataframe\">\n",
       "  <thead>\n",
       "    <tr style=\"text-align: right;\">\n",
       "      <th></th>\n",
       "      <th>tournament_name</th>\n",
       "      <th>difficulty</th>\n",
       "    </tr>\n",
       "  </thead>\n",
       "  <tbody>\n",
       "    <tr>\n",
       "      <th>0</th>\n",
       "      <td>Чемпионат Санкт-Петербурга. Первая лига</td>\n",
       "      <td>-4.529118</td>\n",
       "    </tr>\n",
       "    <tr>\n",
       "      <th>1</th>\n",
       "      <td>Угрюмый Ёрш</td>\n",
       "      <td>-2.360825</td>\n",
       "    </tr>\n",
       "    <tr>\n",
       "      <th>2</th>\n",
       "      <td>Первенство правого полушария</td>\n",
       "      <td>-2.003094</td>\n",
       "    </tr>\n",
       "    <tr>\n",
       "      <th>3</th>\n",
       "      <td>Воображаемый музей</td>\n",
       "      <td>-1.826529</td>\n",
       "    </tr>\n",
       "    <tr>\n",
       "      <th>4</th>\n",
       "      <td>Кубок городов</td>\n",
       "      <td>-1.709380</td>\n",
       "    </tr>\n",
       "    <tr>\n",
       "      <th>5</th>\n",
       "      <td>Записки охотника</td>\n",
       "      <td>-1.663075</td>\n",
       "    </tr>\n",
       "    <tr>\n",
       "      <th>6</th>\n",
       "      <td>Чемпионат Мира. Этап 3. Группа В</td>\n",
       "      <td>-1.619963</td>\n",
       "    </tr>\n",
       "    <tr>\n",
       "      <th>7</th>\n",
       "      <td>Чемпионат России</td>\n",
       "      <td>-1.603171</td>\n",
       "    </tr>\n",
       "    <tr>\n",
       "      <th>8</th>\n",
       "      <td>Ускользающая сова</td>\n",
       "      <td>-1.587967</td>\n",
       "    </tr>\n",
       "    <tr>\n",
       "      <th>9</th>\n",
       "      <td>All Cats Are Beautiful</td>\n",
       "      <td>-1.580905</td>\n",
       "    </tr>\n",
       "    <tr>\n",
       "      <th>10</th>\n",
       "      <td>Ра-II: синхрон \"Борского корабела\"</td>\n",
       "      <td>-1.534688</td>\n",
       "    </tr>\n",
       "    <tr>\n",
       "      <th>11</th>\n",
       "      <td>Чемпионат Мира. Этап 2. Группа В</td>\n",
       "      <td>-1.533222</td>\n",
       "    </tr>\n",
       "    <tr>\n",
       "      <th>12</th>\n",
       "      <td>VERSUS: Коробейников vs. Матвеев</td>\n",
       "      <td>-1.531613</td>\n",
       "    </tr>\n",
       "    <tr>\n",
       "      <th>13</th>\n",
       "      <td>Знание – Сила VI</td>\n",
       "      <td>-1.526706</td>\n",
       "    </tr>\n",
       "    <tr>\n",
       "      <th>14</th>\n",
       "      <td>Антибинго</td>\n",
       "      <td>-1.504802</td>\n",
       "    </tr>\n",
       "    <tr>\n",
       "      <th>15</th>\n",
       "      <td>Чемпионат Мира. Этап 2 Группа С</td>\n",
       "      <td>-1.498066</td>\n",
       "    </tr>\n",
       "    <tr>\n",
       "      <th>16</th>\n",
       "      <td>Чемпионат Минска. Лига А. Тур четвёртый</td>\n",
       "      <td>-1.479937</td>\n",
       "    </tr>\n",
       "    <tr>\n",
       "      <th>17</th>\n",
       "      <td>Чемпионат Мира. Финал. Группа С</td>\n",
       "      <td>-1.468964</td>\n",
       "    </tr>\n",
       "    <tr>\n",
       "      <th>18</th>\n",
       "      <td>Тихий Донец: омут первый</td>\n",
       "      <td>-1.453373</td>\n",
       "    </tr>\n",
       "    <tr>\n",
       "      <th>19</th>\n",
       "      <td>Серия Premier. Седьмая печать</td>\n",
       "      <td>-1.416696</td>\n",
       "    </tr>\n",
       "    <tr>\n",
       "      <th>20</th>\n",
       "      <td>Чемпионат Мира. Этап 3. Группа С</td>\n",
       "      <td>-1.412678</td>\n",
       "    </tr>\n",
       "    <tr>\n",
       "      <th>21</th>\n",
       "      <td>Кубок Москвы</td>\n",
       "      <td>-1.410359</td>\n",
       "    </tr>\n",
       "    <tr>\n",
       "      <th>22</th>\n",
       "      <td>Линч</td>\n",
       "      <td>-1.396813</td>\n",
       "    </tr>\n",
       "    <tr>\n",
       "      <th>23</th>\n",
       "      <td>Мемориал Дмитрия Коноваленко</td>\n",
       "      <td>-1.390213</td>\n",
       "    </tr>\n",
       "    <tr>\n",
       "      <th>24</th>\n",
       "      <td>Львов зимой. Адвокат</td>\n",
       "      <td>-1.388911</td>\n",
       "    </tr>\n",
       "    <tr>\n",
       "      <th>25</th>\n",
       "      <td>Чемпионат Мира. Финал. Группа В</td>\n",
       "      <td>-1.349428</td>\n",
       "    </tr>\n",
       "    <tr>\n",
       "      <th>26</th>\n",
       "      <td>Чемпионат Минска. Лига А. Тур второй</td>\n",
       "      <td>-1.344882</td>\n",
       "    </tr>\n",
       "    <tr>\n",
       "      <th>27</th>\n",
       "      <td>Чемпионат Мира. Этап 2. Группа А</td>\n",
       "      <td>-1.323976</td>\n",
       "    </tr>\n",
       "    <tr>\n",
       "      <th>28</th>\n",
       "      <td>Кубок Кайнозоя</td>\n",
       "      <td>-1.320603</td>\n",
       "    </tr>\n",
       "    <tr>\n",
       "      <th>29</th>\n",
       "      <td>Чемпионат Мира. Этап 1. Группа В</td>\n",
       "      <td>-1.286097</td>\n",
       "    </tr>\n",
       "  </tbody>\n",
       "</table>\n",
       "</div>"
      ],
      "text/plain": [
       "                            tournament_name  difficulty\n",
       "0   Чемпионат Санкт-Петербурга. Первая лига   -4.529118\n",
       "1                               Угрюмый Ёрш   -2.360825\n",
       "2              Первенство правого полушария   -2.003094\n",
       "3                        Воображаемый музей   -1.826529\n",
       "4                             Кубок городов   -1.709380\n",
       "5                          Записки охотника   -1.663075\n",
       "6          Чемпионат Мира. Этап 3. Группа В   -1.619963\n",
       "7                          Чемпионат России   -1.603171\n",
       "8                         Ускользающая сова   -1.587967\n",
       "9                    All Cats Are Beautiful   -1.580905\n",
       "10       Ра-II: синхрон \"Борского корабела\"   -1.534688\n",
       "11         Чемпионат Мира. Этап 2. Группа В   -1.533222\n",
       "12         VERSUS: Коробейников vs. Матвеев   -1.531613\n",
       "13                         Знание – Сила VI   -1.526706\n",
       "14                                Антибинго   -1.504802\n",
       "15          Чемпионат Мира. Этап 2 Группа С   -1.498066\n",
       "16  Чемпионат Минска. Лига А. Тур четвёртый   -1.479937\n",
       "17          Чемпионат Мира. Финал. Группа С   -1.468964\n",
       "18                 Тихий Донец: омут первый   -1.453373\n",
       "19            Серия Premier. Седьмая печать   -1.416696\n",
       "20         Чемпионат Мира. Этап 3. Группа С   -1.412678\n",
       "21                             Кубок Москвы   -1.410359\n",
       "22                                     Линч   -1.396813\n",
       "23             Мемориал Дмитрия Коноваленко   -1.390213\n",
       "24                     Львов зимой. Адвокат   -1.388911\n",
       "25          Чемпионат Мира. Финал. Группа В   -1.349428\n",
       "26     Чемпионат Минска. Лига А. Тур второй   -1.344882\n",
       "27         Чемпионат Мира. Этап 2. Группа А   -1.323976\n",
       "28                           Кубок Кайнозоя   -1.320603\n",
       "29         Чемпионат Мира. Этап 1. Группа В   -1.286097"
      ]
     },
     "execution_count": 33,
     "metadata": {},
     "output_type": "execute_result"
    }
   ],
   "source": [
    "# Самые сложные турниры по версии модели (сверху вниз)\n",
    "tournaments_rating.head(30)"
   ]
  },
  {
   "cell_type": "code",
   "execution_count": 34,
   "metadata": {},
   "outputs": [
    {
     "data": {
      "text/html": [
       "<div>\n",
       "<style scoped>\n",
       "    .dataframe tbody tr th:only-of-type {\n",
       "        vertical-align: middle;\n",
       "    }\n",
       "\n",
       "    .dataframe tbody tr th {\n",
       "        vertical-align: top;\n",
       "    }\n",
       "\n",
       "    .dataframe thead th {\n",
       "        text-align: right;\n",
       "    }\n",
       "</style>\n",
       "<table border=\"1\" class=\"dataframe\">\n",
       "  <thead>\n",
       "    <tr style=\"text-align: right;\">\n",
       "      <th></th>\n",
       "      <th>tournament_name</th>\n",
       "      <th>difficulty</th>\n",
       "    </tr>\n",
       "  </thead>\n",
       "  <tbody>\n",
       "    <tr>\n",
       "      <th>568</th>\n",
       "      <td>Первый турнир имени Джоуи Триббиани</td>\n",
       "      <td>1.303822</td>\n",
       "    </tr>\n",
       "    <tr>\n",
       "      <th>569</th>\n",
       "      <td>ОЧВР. 3 тур</td>\n",
       "      <td>1.308381</td>\n",
       "    </tr>\n",
       "    <tr>\n",
       "      <th>570</th>\n",
       "      <td>Маленькае люстэрка</td>\n",
       "      <td>1.309595</td>\n",
       "    </tr>\n",
       "    <tr>\n",
       "      <th>571</th>\n",
       "      <td>Кубок малых городов</td>\n",
       "      <td>1.317490</td>\n",
       "    </tr>\n",
       "    <tr>\n",
       "      <th>572</th>\n",
       "      <td>Чемпионат МГУ. Открытая лига. Третий игровой день</td>\n",
       "      <td>1.317726</td>\n",
       "    </tr>\n",
       "    <tr>\n",
       "      <th>573</th>\n",
       "      <td>Осенняя кинолига</td>\n",
       "      <td>1.318772</td>\n",
       "    </tr>\n",
       "    <tr>\n",
       "      <th>574</th>\n",
       "      <td>Гарри Поттер и 3 по 12</td>\n",
       "      <td>1.329255</td>\n",
       "    </tr>\n",
       "    <tr>\n",
       "      <th>575</th>\n",
       "      <td>Кубок Тышкевичей</td>\n",
       "      <td>1.351536</td>\n",
       "    </tr>\n",
       "    <tr>\n",
       "      <th>576</th>\n",
       "      <td>Открытый зимний чемпионат ТИУ</td>\n",
       "      <td>1.355421</td>\n",
       "    </tr>\n",
       "    <tr>\n",
       "      <th>577</th>\n",
       "      <td>Школьный Синхрон-lite. Выпуск 2.3</td>\n",
       "      <td>1.386874</td>\n",
       "    </tr>\n",
       "    <tr>\n",
       "      <th>578</th>\n",
       "      <td>Асинхрон по «Королю и Шуту»</td>\n",
       "      <td>1.391378</td>\n",
       "    </tr>\n",
       "    <tr>\n",
       "      <th>579</th>\n",
       "      <td>KFC</td>\n",
       "      <td>1.458336</td>\n",
       "    </tr>\n",
       "    <tr>\n",
       "      <th>580</th>\n",
       "      <td>Синхрон-lite. Выпуск XXIX</td>\n",
       "      <td>1.468505</td>\n",
       "    </tr>\n",
       "    <tr>\n",
       "      <th>581</th>\n",
       "      <td>Межфакультетский кубок МГУ. Отбор №4</td>\n",
       "      <td>1.474321</td>\n",
       "    </tr>\n",
       "    <tr>\n",
       "      <th>582</th>\n",
       "      <td>Ничто, нигде, никогда</td>\n",
       "      <td>1.480258</td>\n",
       "    </tr>\n",
       "    <tr>\n",
       "      <th>583</th>\n",
       "      <td>Межфакультетский кубок МГУ. Отбор №3</td>\n",
       "      <td>1.509188</td>\n",
       "    </tr>\n",
       "    <tr>\n",
       "      <th>584</th>\n",
       "      <td>Малый кубок Физтеха</td>\n",
       "      <td>1.514916</td>\n",
       "    </tr>\n",
       "    <tr>\n",
       "      <th>585</th>\n",
       "      <td>Олимпиада Приволжского федерального округа. Финал</td>\n",
       "      <td>1.523495</td>\n",
       "    </tr>\n",
       "    <tr>\n",
       "      <th>586</th>\n",
       "      <td>Joystick Cup</td>\n",
       "      <td>1.538583</td>\n",
       "    </tr>\n",
       "    <tr>\n",
       "      <th>587</th>\n",
       "      <td>Лига вузов. IV тур</td>\n",
       "      <td>1.546070</td>\n",
       "    </tr>\n",
       "    <tr>\n",
       "      <th>588</th>\n",
       "      <td>Школьный Синхрон-lite. Выпуск 2.5</td>\n",
       "      <td>1.653560</td>\n",
       "    </tr>\n",
       "    <tr>\n",
       "      <th>589</th>\n",
       "      <td>Второй тематический турнир имени Джоуи Триббиани</td>\n",
       "      <td>1.702373</td>\n",
       "    </tr>\n",
       "    <tr>\n",
       "      <th>590</th>\n",
       "      <td>(а)Синхрон-lite. Лига старта. Эпизод X</td>\n",
       "      <td>1.705163</td>\n",
       "    </tr>\n",
       "    <tr>\n",
       "      <th>591</th>\n",
       "      <td>(а)Синхрон-lite. Лига старта. Эпизод IV</td>\n",
       "      <td>1.715373</td>\n",
       "    </tr>\n",
       "    <tr>\n",
       "      <th>592</th>\n",
       "      <td>(а)Синхрон-lite. Лига старта. Эпизод VI</td>\n",
       "      <td>1.797797</td>\n",
       "    </tr>\n",
       "    <tr>\n",
       "      <th>593</th>\n",
       "      <td>(а)Синхрон-lite. Лига старта. Эпизод VII</td>\n",
       "      <td>1.929447</td>\n",
       "    </tr>\n",
       "    <tr>\n",
       "      <th>594</th>\n",
       "      <td>(а)Синхрон-lite. Лига старта. Эпизод IX</td>\n",
       "      <td>2.050875</td>\n",
       "    </tr>\n",
       "    <tr>\n",
       "      <th>595</th>\n",
       "      <td>(а)Синхрон-lite. Лига старта. Эпизод III</td>\n",
       "      <td>2.054638</td>\n",
       "    </tr>\n",
       "    <tr>\n",
       "      <th>596</th>\n",
       "      <td>Студенческий чемпионат Калининградской области</td>\n",
       "      <td>2.087599</td>\n",
       "    </tr>\n",
       "    <tr>\n",
       "      <th>597</th>\n",
       "      <td>(а)Синхрон-lite. Лига старта. Эпизод V</td>\n",
       "      <td>2.146365</td>\n",
       "    </tr>\n",
       "  </tbody>\n",
       "</table>\n",
       "</div>"
      ],
      "text/plain": [
       "                                       tournament_name  difficulty\n",
       "568                Первый турнир имени Джоуи Триббиани    1.303822\n",
       "569                                        ОЧВР. 3 тур    1.308381\n",
       "570                                 Маленькае люстэрка    1.309595\n",
       "571                                Кубок малых городов    1.317490\n",
       "572  Чемпионат МГУ. Открытая лига. Третий игровой день    1.317726\n",
       "573                                   Осенняя кинолига    1.318772\n",
       "574                             Гарри Поттер и 3 по 12    1.329255\n",
       "575                                   Кубок Тышкевичей    1.351536\n",
       "576                      Открытый зимний чемпионат ТИУ    1.355421\n",
       "577                  Школьный Синхрон-lite. Выпуск 2.3    1.386874\n",
       "578                        Асинхрон по «Королю и Шуту»    1.391378\n",
       "579                                                KFC    1.458336\n",
       "580                          Синхрон-lite. Выпуск XXIX    1.468505\n",
       "581               Межфакультетский кубок МГУ. Отбор №4    1.474321\n",
       "582                              Ничто, нигде, никогда    1.480258\n",
       "583               Межфакультетский кубок МГУ. Отбор №3    1.509188\n",
       "584                                Малый кубок Физтеха    1.514916\n",
       "585  Олимпиада Приволжского федерального округа. Финал    1.523495\n",
       "586                                       Joystick Cup    1.538583\n",
       "587                                 Лига вузов. IV тур    1.546070\n",
       "588                  Школьный Синхрон-lite. Выпуск 2.5    1.653560\n",
       "589   Второй тематический турнир имени Джоуи Триббиани    1.702373\n",
       "590             (а)Синхрон-lite. Лига старта. Эпизод X    1.705163\n",
       "591            (а)Синхрон-lite. Лига старта. Эпизод IV    1.715373\n",
       "592            (а)Синхрон-lite. Лига старта. Эпизод VI    1.797797\n",
       "593           (а)Синхрон-lite. Лига старта. Эпизод VII    1.929447\n",
       "594            (а)Синхрон-lite. Лига старта. Эпизод IX    2.050875\n",
       "595           (а)Синхрон-lite. Лига старта. Эпизод III    2.054638\n",
       "596     Студенческий чемпионат Калининградской области    2.087599\n",
       "597             (а)Синхрон-lite. Лига старта. Эпизод V    2.146365"
      ]
     },
     "execution_count": 34,
     "metadata": {},
     "output_type": "execute_result"
    }
   ],
   "source": [
    "# Самые простые турниры по версии модели (снизу ввверх)\n",
    "tournaments_rating.tail(30)"
   ]
  },
  {
   "cell_type": "markdown",
   "metadata": {},
   "source": [
    "В целом, все соответствует логике (судя по названияем турниров)!"
   ]
  }
 ],
 "metadata": {
  "kernelspec": {
   "display_name": "Python 3",
   "language": "python",
   "name": "python3"
  },
  "language_info": {
   "codemirror_mode": {
    "name": "ipython",
    "version": 3
   },
   "file_extension": ".py",
   "mimetype": "text/x-python",
   "name": "python",
   "nbconvert_exporter": "python",
   "pygments_lexer": "ipython3",
   "version": "3.6.7"
  }
 },
 "nbformat": 4,
 "nbformat_minor": 4
}
